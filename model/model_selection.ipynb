{
 "cells": [
  {
   "cell_type": "code",
   "execution_count": 1,
   "id": "7d055d29-869c-487a-8d53-a63b39191194",
   "metadata": {
    "execution": {
     "iopub.execute_input": "2024-06-05T06:51:28.039853Z",
     "iopub.status.busy": "2024-06-05T06:51:28.039853Z",
     "iopub.status.idle": "2024-06-05T06:51:29.104906Z",
     "shell.execute_reply": "2024-06-05T06:51:29.102844Z",
     "shell.execute_reply.started": "2024-06-05T06:51:28.039853Z"
    }
   },
   "outputs": [],
   "source": [
    "import numpy as np \n",
    "import pandas as pd \n",
    "import matplotlib.pyplot as plt \n",
    "import seaborn as sns"
   ]
  },
  {
   "cell_type": "code",
   "execution_count": 2,
   "id": "2a14c22b-2b77-4d8a-8d18-b823c6e38a64",
   "metadata": {
    "execution": {
     "iopub.execute_input": "2024-06-05T06:51:29.109860Z",
     "iopub.status.busy": "2024-06-05T06:51:29.107866Z",
     "iopub.status.idle": "2024-06-05T06:51:29.181810Z",
     "shell.execute_reply": "2024-06-05T06:51:29.179834Z",
     "shell.execute_reply.started": "2024-06-05T06:51:29.109860Z"
    }
   },
   "outputs": [
    {
     "data": {
      "text/html": [
       "<div>\n",
       "<style scoped>\n",
       "    .dataframe tbody tr th:only-of-type {\n",
       "        vertical-align: middle;\n",
       "    }\n",
       "\n",
       "    .dataframe tbody tr th {\n",
       "        vertical-align: top;\n",
       "    }\n",
       "\n",
       "    .dataframe thead th {\n",
       "        text-align: right;\n",
       "    }\n",
       "</style>\n",
       "<table border=\"1\" class=\"dataframe\">\n",
       "  <thead>\n",
       "    <tr style=\"text-align: right;\">\n",
       "      <th></th>\n",
       "      <th>Price</th>\n",
       "      <th>Area</th>\n",
       "      <th>No. of Bedrooms</th>\n",
       "      <th>New/Resale</th>\n",
       "      <th>Lift Available</th>\n",
       "      <th>Location_Airoli</th>\n",
       "      <th>Location_Ambernath East</th>\n",
       "      <th>Location_Ambernath West</th>\n",
       "      <th>Location_Andheri</th>\n",
       "      <th>Location_Andheri East</th>\n",
       "      <th>...</th>\n",
       "      <th>Location_Vashi</th>\n",
       "      <th>Location_Ville Parle East</th>\n",
       "      <th>Location_Virar</th>\n",
       "      <th>Location_Virar East</th>\n",
       "      <th>Location_Virar West</th>\n",
       "      <th>Location_Wadala</th>\n",
       "      <th>Location_Wadala East Wadala</th>\n",
       "      <th>Location_Worli</th>\n",
       "      <th>Location_matunga east</th>\n",
       "      <th>Location_mumbai</th>\n",
       "    </tr>\n",
       "  </thead>\n",
       "  <tbody>\n",
       "    <tr>\n",
       "      <th>0</th>\n",
       "      <td>48.5</td>\n",
       "      <td>720</td>\n",
       "      <td>1</td>\n",
       "      <td>0</td>\n",
       "      <td>1</td>\n",
       "      <td>False</td>\n",
       "      <td>False</td>\n",
       "      <td>False</td>\n",
       "      <td>False</td>\n",
       "      <td>False</td>\n",
       "      <td>...</td>\n",
       "      <td>False</td>\n",
       "      <td>False</td>\n",
       "      <td>False</td>\n",
       "      <td>False</td>\n",
       "      <td>False</td>\n",
       "      <td>False</td>\n",
       "      <td>False</td>\n",
       "      <td>False</td>\n",
       "      <td>False</td>\n",
       "      <td>False</td>\n",
       "    </tr>\n",
       "    <tr>\n",
       "      <th>1</th>\n",
       "      <td>45.0</td>\n",
       "      <td>600</td>\n",
       "      <td>1</td>\n",
       "      <td>0</td>\n",
       "      <td>1</td>\n",
       "      <td>False</td>\n",
       "      <td>False</td>\n",
       "      <td>False</td>\n",
       "      <td>False</td>\n",
       "      <td>False</td>\n",
       "      <td>...</td>\n",
       "      <td>False</td>\n",
       "      <td>False</td>\n",
       "      <td>False</td>\n",
       "      <td>False</td>\n",
       "      <td>False</td>\n",
       "      <td>False</td>\n",
       "      <td>False</td>\n",
       "      <td>False</td>\n",
       "      <td>False</td>\n",
       "      <td>False</td>\n",
       "    </tr>\n",
       "    <tr>\n",
       "      <th>2</th>\n",
       "      <td>67.0</td>\n",
       "      <td>650</td>\n",
       "      <td>1</td>\n",
       "      <td>0</td>\n",
       "      <td>1</td>\n",
       "      <td>False</td>\n",
       "      <td>False</td>\n",
       "      <td>False</td>\n",
       "      <td>False</td>\n",
       "      <td>False</td>\n",
       "      <td>...</td>\n",
       "      <td>False</td>\n",
       "      <td>False</td>\n",
       "      <td>False</td>\n",
       "      <td>False</td>\n",
       "      <td>False</td>\n",
       "      <td>False</td>\n",
       "      <td>False</td>\n",
       "      <td>False</td>\n",
       "      <td>False</td>\n",
       "      <td>False</td>\n",
       "    </tr>\n",
       "    <tr>\n",
       "      <th>3</th>\n",
       "      <td>45.0</td>\n",
       "      <td>650</td>\n",
       "      <td>1</td>\n",
       "      <td>0</td>\n",
       "      <td>1</td>\n",
       "      <td>False</td>\n",
       "      <td>False</td>\n",
       "      <td>False</td>\n",
       "      <td>False</td>\n",
       "      <td>False</td>\n",
       "      <td>...</td>\n",
       "      <td>False</td>\n",
       "      <td>False</td>\n",
       "      <td>False</td>\n",
       "      <td>False</td>\n",
       "      <td>False</td>\n",
       "      <td>False</td>\n",
       "      <td>False</td>\n",
       "      <td>False</td>\n",
       "      <td>False</td>\n",
       "      <td>False</td>\n",
       "    </tr>\n",
       "    <tr>\n",
       "      <th>4</th>\n",
       "      <td>50.0</td>\n",
       "      <td>665</td>\n",
       "      <td>1</td>\n",
       "      <td>0</td>\n",
       "      <td>1</td>\n",
       "      <td>False</td>\n",
       "      <td>False</td>\n",
       "      <td>False</td>\n",
       "      <td>False</td>\n",
       "      <td>False</td>\n",
       "      <td>...</td>\n",
       "      <td>False</td>\n",
       "      <td>False</td>\n",
       "      <td>False</td>\n",
       "      <td>False</td>\n",
       "      <td>False</td>\n",
       "      <td>False</td>\n",
       "      <td>False</td>\n",
       "      <td>False</td>\n",
       "      <td>False</td>\n",
       "      <td>False</td>\n",
       "    </tr>\n",
       "    <tr>\n",
       "      <th>...</th>\n",
       "      <td>...</td>\n",
       "      <td>...</td>\n",
       "      <td>...</td>\n",
       "      <td>...</td>\n",
       "      <td>...</td>\n",
       "      <td>...</td>\n",
       "      <td>...</td>\n",
       "      <td>...</td>\n",
       "      <td>...</td>\n",
       "      <td>...</td>\n",
       "      <td>...</td>\n",
       "      <td>...</td>\n",
       "      <td>...</td>\n",
       "      <td>...</td>\n",
       "      <td>...</td>\n",
       "      <td>...</td>\n",
       "      <td>...</td>\n",
       "      <td>...</td>\n",
       "      <td>...</td>\n",
       "      <td>...</td>\n",
       "      <td>...</td>\n",
       "    </tr>\n",
       "    <tr>\n",
       "      <th>4663</th>\n",
       "      <td>72.0</td>\n",
       "      <td>995</td>\n",
       "      <td>2</td>\n",
       "      <td>1</td>\n",
       "      <td>1</td>\n",
       "      <td>False</td>\n",
       "      <td>False</td>\n",
       "      <td>False</td>\n",
       "      <td>False</td>\n",
       "      <td>False</td>\n",
       "      <td>...</td>\n",
       "      <td>False</td>\n",
       "      <td>False</td>\n",
       "      <td>False</td>\n",
       "      <td>False</td>\n",
       "      <td>False</td>\n",
       "      <td>False</td>\n",
       "      <td>False</td>\n",
       "      <td>False</td>\n",
       "      <td>False</td>\n",
       "      <td>False</td>\n",
       "    </tr>\n",
       "    <tr>\n",
       "      <th>4664</th>\n",
       "      <td>70.0</td>\n",
       "      <td>1020</td>\n",
       "      <td>2</td>\n",
       "      <td>1</td>\n",
       "      <td>1</td>\n",
       "      <td>False</td>\n",
       "      <td>False</td>\n",
       "      <td>False</td>\n",
       "      <td>False</td>\n",
       "      <td>False</td>\n",
       "      <td>...</td>\n",
       "      <td>False</td>\n",
       "      <td>False</td>\n",
       "      <td>False</td>\n",
       "      <td>False</td>\n",
       "      <td>False</td>\n",
       "      <td>False</td>\n",
       "      <td>False</td>\n",
       "      <td>False</td>\n",
       "      <td>False</td>\n",
       "      <td>False</td>\n",
       "    </tr>\n",
       "    <tr>\n",
       "      <th>4665</th>\n",
       "      <td>145.0</td>\n",
       "      <td>900</td>\n",
       "      <td>2</td>\n",
       "      <td>0</td>\n",
       "      <td>0</td>\n",
       "      <td>False</td>\n",
       "      <td>False</td>\n",
       "      <td>False</td>\n",
       "      <td>False</td>\n",
       "      <td>False</td>\n",
       "      <td>...</td>\n",
       "      <td>False</td>\n",
       "      <td>False</td>\n",
       "      <td>False</td>\n",
       "      <td>False</td>\n",
       "      <td>False</td>\n",
       "      <td>False</td>\n",
       "      <td>False</td>\n",
       "      <td>False</td>\n",
       "      <td>False</td>\n",
       "      <td>False</td>\n",
       "    </tr>\n",
       "    <tr>\n",
       "      <th>4666</th>\n",
       "      <td>145.0</td>\n",
       "      <td>900</td>\n",
       "      <td>2</td>\n",
       "      <td>0</td>\n",
       "      <td>1</td>\n",
       "      <td>False</td>\n",
       "      <td>False</td>\n",
       "      <td>False</td>\n",
       "      <td>False</td>\n",
       "      <td>False</td>\n",
       "      <td>...</td>\n",
       "      <td>False</td>\n",
       "      <td>False</td>\n",
       "      <td>False</td>\n",
       "      <td>False</td>\n",
       "      <td>False</td>\n",
       "      <td>False</td>\n",
       "      <td>False</td>\n",
       "      <td>False</td>\n",
       "      <td>False</td>\n",
       "      <td>False</td>\n",
       "    </tr>\n",
       "    <tr>\n",
       "      <th>4667</th>\n",
       "      <td>27.5</td>\n",
       "      <td>700</td>\n",
       "      <td>1</td>\n",
       "      <td>1</td>\n",
       "      <td>1</td>\n",
       "      <td>False</td>\n",
       "      <td>False</td>\n",
       "      <td>False</td>\n",
       "      <td>False</td>\n",
       "      <td>False</td>\n",
       "      <td>...</td>\n",
       "      <td>False</td>\n",
       "      <td>False</td>\n",
       "      <td>False</td>\n",
       "      <td>False</td>\n",
       "      <td>False</td>\n",
       "      <td>False</td>\n",
       "      <td>False</td>\n",
       "      <td>False</td>\n",
       "      <td>False</td>\n",
       "      <td>False</td>\n",
       "    </tr>\n",
       "  </tbody>\n",
       "</table>\n",
       "<p>4668 rows × 95 columns</p>\n",
       "</div>"
      ],
      "text/plain": [
       "      Price  Area  No. of Bedrooms  New/Resale  Lift Available  \\\n",
       "0      48.5   720                1           0               1   \n",
       "1      45.0   600                1           0               1   \n",
       "2      67.0   650                1           0               1   \n",
       "3      45.0   650                1           0               1   \n",
       "4      50.0   665                1           0               1   \n",
       "...     ...   ...              ...         ...             ...   \n",
       "4663   72.0   995                2           1               1   \n",
       "4664   70.0  1020                2           1               1   \n",
       "4665  145.0   900                2           0               0   \n",
       "4666  145.0   900                2           0               1   \n",
       "4667   27.5   700                1           1               1   \n",
       "\n",
       "      Location_Airoli  Location_Ambernath East  Location_Ambernath West  \\\n",
       "0               False                    False                    False   \n",
       "1               False                    False                    False   \n",
       "2               False                    False                    False   \n",
       "3               False                    False                    False   \n",
       "4               False                    False                    False   \n",
       "...               ...                      ...                      ...   \n",
       "4663            False                    False                    False   \n",
       "4664            False                    False                    False   \n",
       "4665            False                    False                    False   \n",
       "4666            False                    False                    False   \n",
       "4667            False                    False                    False   \n",
       "\n",
       "      Location_Andheri  Location_Andheri East  ...  Location_Vashi  \\\n",
       "0                False                  False  ...           False   \n",
       "1                False                  False  ...           False   \n",
       "2                False                  False  ...           False   \n",
       "3                False                  False  ...           False   \n",
       "4                False                  False  ...           False   \n",
       "...                ...                    ...  ...             ...   \n",
       "4663             False                  False  ...           False   \n",
       "4664             False                  False  ...           False   \n",
       "4665             False                  False  ...           False   \n",
       "4666             False                  False  ...           False   \n",
       "4667             False                  False  ...           False   \n",
       "\n",
       "      Location_Ville Parle East  Location_Virar  Location_Virar East  \\\n",
       "0                         False           False                False   \n",
       "1                         False           False                False   \n",
       "2                         False           False                False   \n",
       "3                         False           False                False   \n",
       "4                         False           False                False   \n",
       "...                         ...             ...                  ...   \n",
       "4663                      False           False                False   \n",
       "4664                      False           False                False   \n",
       "4665                      False           False                False   \n",
       "4666                      False           False                False   \n",
       "4667                      False           False                False   \n",
       "\n",
       "      Location_Virar West  Location_Wadala  Location_Wadala East Wadala  \\\n",
       "0                   False            False                        False   \n",
       "1                   False            False                        False   \n",
       "2                   False            False                        False   \n",
       "3                   False            False                        False   \n",
       "4                   False            False                        False   \n",
       "...                   ...              ...                          ...   \n",
       "4663                False            False                        False   \n",
       "4664                False            False                        False   \n",
       "4665                False            False                        False   \n",
       "4666                False            False                        False   \n",
       "4667                False            False                        False   \n",
       "\n",
       "      Location_Worli  Location_matunga east  Location_mumbai  \n",
       "0              False                  False            False  \n",
       "1              False                  False            False  \n",
       "2              False                  False            False  \n",
       "3              False                  False            False  \n",
       "4              False                  False            False  \n",
       "...              ...                    ...              ...  \n",
       "4663           False                  False            False  \n",
       "4664           False                  False            False  \n",
       "4665           False                  False            False  \n",
       "4666           False                  False            False  \n",
       "4667           False                  False            False  \n",
       "\n",
       "[4668 rows x 95 columns]"
      ]
     },
     "execution_count": 2,
     "metadata": {},
     "output_type": "execute_result"
    }
   ],
   "source": [
    "df = pd.read_csv('./house_data_final.csv')\n",
    "df"
   ]
  },
  {
   "cell_type": "code",
   "execution_count": 3,
   "id": "468c287b-d5eb-4b4a-99d2-a3b4bc80cc13",
   "metadata": {
    "execution": {
     "iopub.execute_input": "2024-06-05T06:51:29.183775Z",
     "iopub.status.busy": "2024-06-05T06:51:29.182777Z",
     "iopub.status.idle": "2024-06-05T06:51:29.415670Z",
     "shell.execute_reply": "2024-06-05T06:51:29.414673Z",
     "shell.execute_reply.started": "2024-06-05T06:51:29.183775Z"
    }
   },
   "outputs": [],
   "source": [
    "from sklearn.linear_model import ElasticNet,Lasso,LinearRegression,Ridge\n",
    "from sklearn.svm import SVR\n",
    "from sklearn.ensemble import RandomForestRegressor\n",
    "from sklearn.model_selection import train_test_split,cross_validate,GridSearchCV\n",
    "from sklearn.metrics import mean_absolute_error, mean_squared_error\n",
    "from sklearn.model_selection import ShuffleSplit\n",
    "from sklearn.model_selection import cross_val_score\n",
    "from sklearn.preprocessing import StandardScaler"
   ]
  },
  {
   "cell_type": "code",
   "execution_count": 4,
   "id": "f91d7a01-c454-40f1-923b-47b94b13c28a",
   "metadata": {
    "execution": {
     "iopub.execute_input": "2024-06-05T06:51:29.417696Z",
     "iopub.status.busy": "2024-06-05T06:51:29.417696Z",
     "iopub.status.idle": "2024-06-05T06:51:29.430278Z",
     "shell.execute_reply": "2024-06-05T06:51:29.430278Z",
     "shell.execute_reply.started": "2024-06-05T06:51:29.417696Z"
    }
   },
   "outputs": [],
   "source": [
    "X = df.drop('Price' , axis=1)\n",
    "y = df['Price']"
   ]
  },
  {
   "cell_type": "code",
   "execution_count": 5,
   "id": "b0b9d21b-c314-4608-9e97-f0bb3136c07b",
   "metadata": {
    "execution": {
     "iopub.execute_input": "2024-06-05T06:51:29.432272Z",
     "iopub.status.busy": "2024-06-05T06:51:29.431273Z",
     "iopub.status.idle": "2024-06-05T06:51:29.446252Z",
     "shell.execute_reply": "2024-06-05T06:51:29.445250Z",
     "shell.execute_reply.started": "2024-06-05T06:51:29.432272Z"
    }
   },
   "outputs": [],
   "source": [
    "X_train, X_test, y_train, y_test = train_test_split(X, y, test_size=0.3, random_state=101)"
   ]
  },
  {
   "cell_type": "code",
   "execution_count": 6,
   "id": "284f9b07-8281-498e-b349-8aa48f01f355",
   "metadata": {
    "execution": {
     "iopub.execute_input": "2024-06-05T06:51:29.447249Z",
     "iopub.status.busy": "2024-06-05T06:51:29.447249Z",
     "iopub.status.idle": "2024-06-05T06:51:29.478797Z",
     "shell.execute_reply": "2024-06-05T06:51:29.476798Z",
     "shell.execute_reply.started": "2024-06-05T06:51:29.447249Z"
    }
   },
   "outputs": [],
   "source": [
    "standard = StandardScaler()\n",
    "standard.fit(X_train)\n",
    "scaled_X_train = standard.transform(X_train)\n",
    "scaled_X_test = standard.transform(X_test)"
   ]
  },
  {
   "cell_type": "code",
   "execution_count": 7,
   "id": "d67abf51-d631-4173-9dbe-97ae5c807192",
   "metadata": {
    "execution": {
     "iopub.execute_input": "2024-06-05T06:51:29.482792Z",
     "iopub.status.busy": "2024-06-05T06:51:29.481791Z",
     "iopub.status.idle": "2024-06-05T06:51:29.508716Z",
     "shell.execute_reply": "2024-06-05T06:51:29.508716Z",
     "shell.execute_reply.started": "2024-06-05T06:51:29.482792Z"
    }
   },
   "outputs": [
    {
     "data": {
      "text/html": [
       "<style>#sk-container-id-1 {color: black;}#sk-container-id-1 pre{padding: 0;}#sk-container-id-1 div.sk-toggleable {background-color: white;}#sk-container-id-1 label.sk-toggleable__label {cursor: pointer;display: block;width: 100%;margin-bottom: 0;padding: 0.3em;box-sizing: border-box;text-align: center;}#sk-container-id-1 label.sk-toggleable__label-arrow:before {content: \"▸\";float: left;margin-right: 0.25em;color: #696969;}#sk-container-id-1 label.sk-toggleable__label-arrow:hover:before {color: black;}#sk-container-id-1 div.sk-estimator:hover label.sk-toggleable__label-arrow:before {color: black;}#sk-container-id-1 div.sk-toggleable__content {max-height: 0;max-width: 0;overflow: hidden;text-align: left;background-color: #f0f8ff;}#sk-container-id-1 div.sk-toggleable__content pre {margin: 0.2em;color: black;border-radius: 0.25em;background-color: #f0f8ff;}#sk-container-id-1 input.sk-toggleable__control:checked~div.sk-toggleable__content {max-height: 200px;max-width: 100%;overflow: auto;}#sk-container-id-1 input.sk-toggleable__control:checked~label.sk-toggleable__label-arrow:before {content: \"▾\";}#sk-container-id-1 div.sk-estimator input.sk-toggleable__control:checked~label.sk-toggleable__label {background-color: #d4ebff;}#sk-container-id-1 div.sk-label input.sk-toggleable__control:checked~label.sk-toggleable__label {background-color: #d4ebff;}#sk-container-id-1 input.sk-hidden--visually {border: 0;clip: rect(1px 1px 1px 1px);clip: rect(1px, 1px, 1px, 1px);height: 1px;margin: -1px;overflow: hidden;padding: 0;position: absolute;width: 1px;}#sk-container-id-1 div.sk-estimator {font-family: monospace;background-color: #f0f8ff;border: 1px dotted black;border-radius: 0.25em;box-sizing: border-box;margin-bottom: 0.5em;}#sk-container-id-1 div.sk-estimator:hover {background-color: #d4ebff;}#sk-container-id-1 div.sk-parallel-item::after {content: \"\";width: 100%;border-bottom: 1px solid gray;flex-grow: 1;}#sk-container-id-1 div.sk-label:hover label.sk-toggleable__label {background-color: #d4ebff;}#sk-container-id-1 div.sk-serial::before {content: \"\";position: absolute;border-left: 1px solid gray;box-sizing: border-box;top: 0;bottom: 0;left: 50%;z-index: 0;}#sk-container-id-1 div.sk-serial {display: flex;flex-direction: column;align-items: center;background-color: white;padding-right: 0.2em;padding-left: 0.2em;position: relative;}#sk-container-id-1 div.sk-item {position: relative;z-index: 1;}#sk-container-id-1 div.sk-parallel {display: flex;align-items: stretch;justify-content: center;background-color: white;position: relative;}#sk-container-id-1 div.sk-item::before, #sk-container-id-1 div.sk-parallel-item::before {content: \"\";position: absolute;border-left: 1px solid gray;box-sizing: border-box;top: 0;bottom: 0;left: 50%;z-index: -1;}#sk-container-id-1 div.sk-parallel-item {display: flex;flex-direction: column;z-index: 1;position: relative;background-color: white;}#sk-container-id-1 div.sk-parallel-item:first-child::after {align-self: flex-end;width: 50%;}#sk-container-id-1 div.sk-parallel-item:last-child::after {align-self: flex-start;width: 50%;}#sk-container-id-1 div.sk-parallel-item:only-child::after {width: 0;}#sk-container-id-1 div.sk-dashed-wrapped {border: 1px dashed gray;margin: 0 0.4em 0.5em 0.4em;box-sizing: border-box;padding-bottom: 0.4em;background-color: white;}#sk-container-id-1 div.sk-label label {font-family: monospace;font-weight: bold;display: inline-block;line-height: 1.2em;}#sk-container-id-1 div.sk-label-container {text-align: center;}#sk-container-id-1 div.sk-container {/* jupyter's `normalize.less` sets `[hidden] { display: none; }` but bootstrap.min.css set `[hidden] { display: none !important; }` so we also need the `!important` here to be able to override the default hidden behavior on the sphinx rendered scikit-learn.org. See: https://github.com/scikit-learn/scikit-learn/issues/21755 */display: inline-block !important;position: relative;}#sk-container-id-1 div.sk-text-repr-fallback {display: none;}</style><div id=\"sk-container-id-1\" class=\"sk-top-container\"><div class=\"sk-text-repr-fallback\"><pre>LinearRegression()</pre><b>In a Jupyter environment, please rerun this cell to show the HTML representation or trust the notebook. <br />On GitHub, the HTML representation is unable to render, please try loading this page with nbviewer.org.</b></div><div class=\"sk-container\" hidden><div class=\"sk-item\"><div class=\"sk-estimator sk-toggleable\"><input class=\"sk-toggleable__control sk-hidden--visually\" id=\"sk-estimator-id-1\" type=\"checkbox\" checked><label for=\"sk-estimator-id-1\" class=\"sk-toggleable__label sk-toggleable__label-arrow\">LinearRegression</label><div class=\"sk-toggleable__content\"><pre>LinearRegression()</pre></div></div></div></div></div>"
      ],
      "text/plain": [
       "LinearRegression()"
      ]
     },
     "execution_count": 7,
     "metadata": {},
     "output_type": "execute_result"
    }
   ],
   "source": [
    "lr = LinearRegression()\n",
    "lr.fit(scaled_X_train,y_train)"
   ]
  },
  {
   "cell_type": "code",
   "execution_count": 8,
   "id": "d7487722-2414-42c2-8a4d-580e4889e4f5",
   "metadata": {
    "execution": {
     "iopub.execute_input": "2024-06-05T06:51:29.509714Z",
     "iopub.status.busy": "2024-06-05T06:51:29.509714Z",
     "iopub.status.idle": "2024-06-05T06:51:29.524675Z",
     "shell.execute_reply": "2024-06-05T06:51:29.524675Z",
     "shell.execute_reply.started": "2024-06-05T06:51:29.509714Z"
    }
   },
   "outputs": [
    {
     "data": {
      "text/plain": [
       "24.680825378556044"
      ]
     },
     "execution_count": 8,
     "metadata": {},
     "output_type": "execute_result"
    }
   ],
   "source": [
    "pred = lr.predict(scaled_X_test)\n",
    "rmse = np.sqrt(mean_squared_error(y_test,pred))\n",
    "rmse"
   ]
  },
  {
   "cell_type": "code",
   "execution_count": 9,
   "id": "cd64bd7b-5403-4801-ae35-27ead8280a04",
   "metadata": {
    "execution": {
     "iopub.execute_input": "2024-06-05T06:51:29.526669Z",
     "iopub.status.busy": "2024-06-05T06:51:29.525671Z",
     "iopub.status.idle": "2024-06-05T06:51:29.539634Z",
     "shell.execute_reply": "2024-06-05T06:51:29.539634Z",
     "shell.execute_reply.started": "2024-06-05T06:51:29.526669Z"
    }
   },
   "outputs": [],
   "source": [
    "svr = SVR()"
   ]
  },
  {
   "cell_type": "code",
   "execution_count": 10,
   "id": "f515fb97-b5b3-4739-93ee-4d90ad28c44c",
   "metadata": {
    "execution": {
     "iopub.execute_input": "2024-06-05T06:51:29.540631Z",
     "iopub.status.busy": "2024-06-05T06:51:29.540631Z",
     "iopub.status.idle": "2024-06-05T06:51:29.554595Z",
     "shell.execute_reply": "2024-06-05T06:51:29.554595Z",
     "shell.execute_reply.started": "2024-06-05T06:51:29.540631Z"
    }
   },
   "outputs": [],
   "source": [
    "param_grid = {'kernel':['linear'] , 'C':[0.01,0.1,1] , 'epsilon':[0,0.01,0.1,1]}"
   ]
  },
  {
   "cell_type": "code",
   "execution_count": 11,
   "id": "734d775e-03a2-4b7c-84ae-169e0cb352c6",
   "metadata": {
    "execution": {
     "iopub.execute_input": "2024-06-05T06:51:29.555591Z",
     "iopub.status.busy": "2024-06-05T06:51:29.555591Z",
     "iopub.status.idle": "2024-06-05T06:51:29.571128Z",
     "shell.execute_reply": "2024-06-05T06:51:29.570551Z",
     "shell.execute_reply.started": "2024-06-05T06:51:29.555591Z"
    }
   },
   "outputs": [],
   "source": [
    "grid = GridSearchCV(svr,param_grid)"
   ]
  },
  {
   "cell_type": "code",
   "execution_count": 12,
   "id": "b16c5a1f-f048-4e4e-ab0b-97a1f22480fb",
   "metadata": {
    "execution": {
     "iopub.execute_input": "2024-06-05T06:51:29.572130Z",
     "iopub.status.busy": "2024-06-05T06:51:29.572130Z",
     "iopub.status.idle": "2024-06-05T06:51:57.142624Z",
     "shell.execute_reply": "2024-06-05T06:51:57.141646Z",
     "shell.execute_reply.started": "2024-06-05T06:51:29.572130Z"
    }
   },
   "outputs": [
    {
     "data": {
      "text/html": [
       "<style>#sk-container-id-2 {color: black;}#sk-container-id-2 pre{padding: 0;}#sk-container-id-2 div.sk-toggleable {background-color: white;}#sk-container-id-2 label.sk-toggleable__label {cursor: pointer;display: block;width: 100%;margin-bottom: 0;padding: 0.3em;box-sizing: border-box;text-align: center;}#sk-container-id-2 label.sk-toggleable__label-arrow:before {content: \"▸\";float: left;margin-right: 0.25em;color: #696969;}#sk-container-id-2 label.sk-toggleable__label-arrow:hover:before {color: black;}#sk-container-id-2 div.sk-estimator:hover label.sk-toggleable__label-arrow:before {color: black;}#sk-container-id-2 div.sk-toggleable__content {max-height: 0;max-width: 0;overflow: hidden;text-align: left;background-color: #f0f8ff;}#sk-container-id-2 div.sk-toggleable__content pre {margin: 0.2em;color: black;border-radius: 0.25em;background-color: #f0f8ff;}#sk-container-id-2 input.sk-toggleable__control:checked~div.sk-toggleable__content {max-height: 200px;max-width: 100%;overflow: auto;}#sk-container-id-2 input.sk-toggleable__control:checked~label.sk-toggleable__label-arrow:before {content: \"▾\";}#sk-container-id-2 div.sk-estimator input.sk-toggleable__control:checked~label.sk-toggleable__label {background-color: #d4ebff;}#sk-container-id-2 div.sk-label input.sk-toggleable__control:checked~label.sk-toggleable__label {background-color: #d4ebff;}#sk-container-id-2 input.sk-hidden--visually {border: 0;clip: rect(1px 1px 1px 1px);clip: rect(1px, 1px, 1px, 1px);height: 1px;margin: -1px;overflow: hidden;padding: 0;position: absolute;width: 1px;}#sk-container-id-2 div.sk-estimator {font-family: monospace;background-color: #f0f8ff;border: 1px dotted black;border-radius: 0.25em;box-sizing: border-box;margin-bottom: 0.5em;}#sk-container-id-2 div.sk-estimator:hover {background-color: #d4ebff;}#sk-container-id-2 div.sk-parallel-item::after {content: \"\";width: 100%;border-bottom: 1px solid gray;flex-grow: 1;}#sk-container-id-2 div.sk-label:hover label.sk-toggleable__label {background-color: #d4ebff;}#sk-container-id-2 div.sk-serial::before {content: \"\";position: absolute;border-left: 1px solid gray;box-sizing: border-box;top: 0;bottom: 0;left: 50%;z-index: 0;}#sk-container-id-2 div.sk-serial {display: flex;flex-direction: column;align-items: center;background-color: white;padding-right: 0.2em;padding-left: 0.2em;position: relative;}#sk-container-id-2 div.sk-item {position: relative;z-index: 1;}#sk-container-id-2 div.sk-parallel {display: flex;align-items: stretch;justify-content: center;background-color: white;position: relative;}#sk-container-id-2 div.sk-item::before, #sk-container-id-2 div.sk-parallel-item::before {content: \"\";position: absolute;border-left: 1px solid gray;box-sizing: border-box;top: 0;bottom: 0;left: 50%;z-index: -1;}#sk-container-id-2 div.sk-parallel-item {display: flex;flex-direction: column;z-index: 1;position: relative;background-color: white;}#sk-container-id-2 div.sk-parallel-item:first-child::after {align-self: flex-end;width: 50%;}#sk-container-id-2 div.sk-parallel-item:last-child::after {align-self: flex-start;width: 50%;}#sk-container-id-2 div.sk-parallel-item:only-child::after {width: 0;}#sk-container-id-2 div.sk-dashed-wrapped {border: 1px dashed gray;margin: 0 0.4em 0.5em 0.4em;box-sizing: border-box;padding-bottom: 0.4em;background-color: white;}#sk-container-id-2 div.sk-label label {font-family: monospace;font-weight: bold;display: inline-block;line-height: 1.2em;}#sk-container-id-2 div.sk-label-container {text-align: center;}#sk-container-id-2 div.sk-container {/* jupyter's `normalize.less` sets `[hidden] { display: none; }` but bootstrap.min.css set `[hidden] { display: none !important; }` so we also need the `!important` here to be able to override the default hidden behavior on the sphinx rendered scikit-learn.org. See: https://github.com/scikit-learn/scikit-learn/issues/21755 */display: inline-block !important;position: relative;}#sk-container-id-2 div.sk-text-repr-fallback {display: none;}</style><div id=\"sk-container-id-2\" class=\"sk-top-container\"><div class=\"sk-text-repr-fallback\"><pre>GridSearchCV(estimator=SVR(),\n",
       "             param_grid={&#x27;C&#x27;: [0.01, 0.1, 1], &#x27;epsilon&#x27;: [0, 0.01, 0.1, 1],\n",
       "                         &#x27;kernel&#x27;: [&#x27;linear&#x27;]})</pre><b>In a Jupyter environment, please rerun this cell to show the HTML representation or trust the notebook. <br />On GitHub, the HTML representation is unable to render, please try loading this page with nbviewer.org.</b></div><div class=\"sk-container\" hidden><div class=\"sk-item sk-dashed-wrapped\"><div class=\"sk-label-container\"><div class=\"sk-label sk-toggleable\"><input class=\"sk-toggleable__control sk-hidden--visually\" id=\"sk-estimator-id-2\" type=\"checkbox\" ><label for=\"sk-estimator-id-2\" class=\"sk-toggleable__label sk-toggleable__label-arrow\">GridSearchCV</label><div class=\"sk-toggleable__content\"><pre>GridSearchCV(estimator=SVR(),\n",
       "             param_grid={&#x27;C&#x27;: [0.01, 0.1, 1], &#x27;epsilon&#x27;: [0, 0.01, 0.1, 1],\n",
       "                         &#x27;kernel&#x27;: [&#x27;linear&#x27;]})</pre></div></div></div><div class=\"sk-parallel\"><div class=\"sk-parallel-item\"><div class=\"sk-item\"><div class=\"sk-label-container\"><div class=\"sk-label sk-toggleable\"><input class=\"sk-toggleable__control sk-hidden--visually\" id=\"sk-estimator-id-3\" type=\"checkbox\" ><label for=\"sk-estimator-id-3\" class=\"sk-toggleable__label sk-toggleable__label-arrow\">estimator: SVR</label><div class=\"sk-toggleable__content\"><pre>SVR()</pre></div></div></div><div class=\"sk-serial\"><div class=\"sk-item\"><div class=\"sk-estimator sk-toggleable\"><input class=\"sk-toggleable__control sk-hidden--visually\" id=\"sk-estimator-id-4\" type=\"checkbox\" ><label for=\"sk-estimator-id-4\" class=\"sk-toggleable__label sk-toggleable__label-arrow\">SVR</label><div class=\"sk-toggleable__content\"><pre>SVR()</pre></div></div></div></div></div></div></div></div></div></div>"
      ],
      "text/plain": [
       "GridSearchCV(estimator=SVR(),\n",
       "             param_grid={'C': [0.01, 0.1, 1], 'epsilon': [0, 0.01, 0.1, 1],\n",
       "                         'kernel': ['linear']})"
      ]
     },
     "execution_count": 12,
     "metadata": {},
     "output_type": "execute_result"
    }
   ],
   "source": [
    "grid.fit(scaled_X_train,y_train)"
   ]
  },
  {
   "cell_type": "code",
   "execution_count": 13,
   "id": "9080abde-541f-4d61-b291-6e3b317f4ad7",
   "metadata": {
    "execution": {
     "iopub.execute_input": "2024-06-05T06:51:57.146587Z",
     "iopub.status.busy": "2024-06-05T06:51:57.146587Z",
     "iopub.status.idle": "2024-06-05T06:51:57.332537Z",
     "shell.execute_reply": "2024-06-05T06:51:57.332537Z",
     "shell.execute_reply.started": "2024-06-05T06:51:57.146587Z"
    }
   },
   "outputs": [
    {
     "data": {
      "text/plain": [
       "26.092969263790543"
      ]
     },
     "execution_count": 13,
     "metadata": {},
     "output_type": "execute_result"
    }
   ],
   "source": [
    "pred = grid.predict(scaled_X_test)\n",
    "rmse = np.sqrt(mean_squared_error(y_test,pred))\n",
    "rmse"
   ]
  },
  {
   "cell_type": "code",
   "execution_count": 14,
   "id": "efdbe153-6d3a-4154-ab40-80a4f7434271",
   "metadata": {
    "execution": {
     "iopub.execute_input": "2024-06-05T06:51:57.334534Z",
     "iopub.status.busy": "2024-06-05T06:51:57.333573Z",
     "iopub.status.idle": "2024-06-05T06:51:57.348438Z",
     "shell.execute_reply": "2024-06-05T06:51:57.347505Z",
     "shell.execute_reply.started": "2024-06-05T06:51:57.334534Z"
    }
   },
   "outputs": [
    {
     "data": {
      "text/plain": [
       "{'C': 1, 'epsilon': 1, 'kernel': 'linear'}"
      ]
     },
     "execution_count": 14,
     "metadata": {},
     "output_type": "execute_result"
    }
   ],
   "source": [
    "grid.best_params_"
   ]
  },
  {
   "cell_type": "code",
   "execution_count": 15,
   "id": "09242e18-daf0-40aa-bc80-041f36d45c02",
   "metadata": {
    "execution": {
     "iopub.execute_input": "2024-06-05T06:51:57.348438Z",
     "iopub.status.busy": "2024-06-05T06:51:57.348438Z",
     "iopub.status.idle": "2024-06-05T06:51:57.364399Z",
     "shell.execute_reply": "2024-06-05T06:51:57.363401Z",
     "shell.execute_reply.started": "2024-06-05T06:51:57.348438Z"
    }
   },
   "outputs": [],
   "source": [
    "model = RandomForestRegressor()"
   ]
  },
  {
   "cell_type": "code",
   "execution_count": 16,
   "id": "2a715015-1ccd-49d4-aa03-bc312efa7776",
   "metadata": {
    "execution": {
     "iopub.execute_input": "2024-06-05T06:51:57.365398Z",
     "iopub.status.busy": "2024-06-05T06:51:57.365398Z",
     "iopub.status.idle": "2024-06-05T06:51:57.380031Z",
     "shell.execute_reply": "2024-06-05T06:51:57.379359Z",
     "shell.execute_reply.started": "2024-06-05T06:51:57.365398Z"
    }
   },
   "outputs": [],
   "source": [
    "param_grid = {'n_estimators':[5,50,64,100] , \"max_features\": [2,3,4]}"
   ]
  },
  {
   "cell_type": "code",
   "execution_count": 17,
   "id": "2228f15b-763a-40a9-9562-b8f867fada21",
   "metadata": {
    "execution": {
     "iopub.execute_input": "2024-06-05T06:51:57.381032Z",
     "iopub.status.busy": "2024-06-05T06:51:57.381032Z",
     "iopub.status.idle": "2024-06-05T06:51:57.395993Z",
     "shell.execute_reply": "2024-06-05T06:51:57.394994Z",
     "shell.execute_reply.started": "2024-06-05T06:51:57.381032Z"
    }
   },
   "outputs": [],
   "source": [
    "grid  = GridSearchCV(model,param_grid)"
   ]
  },
  {
   "cell_type": "code",
   "execution_count": 18,
   "id": "9a6051ae-fdcc-4f4c-b8b9-7960f210c20f",
   "metadata": {
    "execution": {
     "iopub.execute_input": "2024-06-05T06:51:57.396989Z",
     "iopub.status.busy": "2024-06-05T06:51:57.395993Z",
     "iopub.status.idle": "2024-06-05T06:52:30.847996Z",
     "shell.execute_reply": "2024-06-05T06:52:30.847474Z",
     "shell.execute_reply.started": "2024-06-05T06:51:57.396989Z"
    }
   },
   "outputs": [
    {
     "data": {
      "text/html": [
       "<style>#sk-container-id-3 {color: black;}#sk-container-id-3 pre{padding: 0;}#sk-container-id-3 div.sk-toggleable {background-color: white;}#sk-container-id-3 label.sk-toggleable__label {cursor: pointer;display: block;width: 100%;margin-bottom: 0;padding: 0.3em;box-sizing: border-box;text-align: center;}#sk-container-id-3 label.sk-toggleable__label-arrow:before {content: \"▸\";float: left;margin-right: 0.25em;color: #696969;}#sk-container-id-3 label.sk-toggleable__label-arrow:hover:before {color: black;}#sk-container-id-3 div.sk-estimator:hover label.sk-toggleable__label-arrow:before {color: black;}#sk-container-id-3 div.sk-toggleable__content {max-height: 0;max-width: 0;overflow: hidden;text-align: left;background-color: #f0f8ff;}#sk-container-id-3 div.sk-toggleable__content pre {margin: 0.2em;color: black;border-radius: 0.25em;background-color: #f0f8ff;}#sk-container-id-3 input.sk-toggleable__control:checked~div.sk-toggleable__content {max-height: 200px;max-width: 100%;overflow: auto;}#sk-container-id-3 input.sk-toggleable__control:checked~label.sk-toggleable__label-arrow:before {content: \"▾\";}#sk-container-id-3 div.sk-estimator input.sk-toggleable__control:checked~label.sk-toggleable__label {background-color: #d4ebff;}#sk-container-id-3 div.sk-label input.sk-toggleable__control:checked~label.sk-toggleable__label {background-color: #d4ebff;}#sk-container-id-3 input.sk-hidden--visually {border: 0;clip: rect(1px 1px 1px 1px);clip: rect(1px, 1px, 1px, 1px);height: 1px;margin: -1px;overflow: hidden;padding: 0;position: absolute;width: 1px;}#sk-container-id-3 div.sk-estimator {font-family: monospace;background-color: #f0f8ff;border: 1px dotted black;border-radius: 0.25em;box-sizing: border-box;margin-bottom: 0.5em;}#sk-container-id-3 div.sk-estimator:hover {background-color: #d4ebff;}#sk-container-id-3 div.sk-parallel-item::after {content: \"\";width: 100%;border-bottom: 1px solid gray;flex-grow: 1;}#sk-container-id-3 div.sk-label:hover label.sk-toggleable__label {background-color: #d4ebff;}#sk-container-id-3 div.sk-serial::before {content: \"\";position: absolute;border-left: 1px solid gray;box-sizing: border-box;top: 0;bottom: 0;left: 50%;z-index: 0;}#sk-container-id-3 div.sk-serial {display: flex;flex-direction: column;align-items: center;background-color: white;padding-right: 0.2em;padding-left: 0.2em;position: relative;}#sk-container-id-3 div.sk-item {position: relative;z-index: 1;}#sk-container-id-3 div.sk-parallel {display: flex;align-items: stretch;justify-content: center;background-color: white;position: relative;}#sk-container-id-3 div.sk-item::before, #sk-container-id-3 div.sk-parallel-item::before {content: \"\";position: absolute;border-left: 1px solid gray;box-sizing: border-box;top: 0;bottom: 0;left: 50%;z-index: -1;}#sk-container-id-3 div.sk-parallel-item {display: flex;flex-direction: column;z-index: 1;position: relative;background-color: white;}#sk-container-id-3 div.sk-parallel-item:first-child::after {align-self: flex-end;width: 50%;}#sk-container-id-3 div.sk-parallel-item:last-child::after {align-self: flex-start;width: 50%;}#sk-container-id-3 div.sk-parallel-item:only-child::after {width: 0;}#sk-container-id-3 div.sk-dashed-wrapped {border: 1px dashed gray;margin: 0 0.4em 0.5em 0.4em;box-sizing: border-box;padding-bottom: 0.4em;background-color: white;}#sk-container-id-3 div.sk-label label {font-family: monospace;font-weight: bold;display: inline-block;line-height: 1.2em;}#sk-container-id-3 div.sk-label-container {text-align: center;}#sk-container-id-3 div.sk-container {/* jupyter's `normalize.less` sets `[hidden] { display: none; }` but bootstrap.min.css set `[hidden] { display: none !important; }` so we also need the `!important` here to be able to override the default hidden behavior on the sphinx rendered scikit-learn.org. See: https://github.com/scikit-learn/scikit-learn/issues/21755 */display: inline-block !important;position: relative;}#sk-container-id-3 div.sk-text-repr-fallback {display: none;}</style><div id=\"sk-container-id-3\" class=\"sk-top-container\"><div class=\"sk-text-repr-fallback\"><pre>GridSearchCV(estimator=RandomForestRegressor(),\n",
       "             param_grid={&#x27;max_features&#x27;: [2, 3, 4],\n",
       "                         &#x27;n_estimators&#x27;: [5, 50, 64, 100]})</pre><b>In a Jupyter environment, please rerun this cell to show the HTML representation or trust the notebook. <br />On GitHub, the HTML representation is unable to render, please try loading this page with nbviewer.org.</b></div><div class=\"sk-container\" hidden><div class=\"sk-item sk-dashed-wrapped\"><div class=\"sk-label-container\"><div class=\"sk-label sk-toggleable\"><input class=\"sk-toggleable__control sk-hidden--visually\" id=\"sk-estimator-id-5\" type=\"checkbox\" ><label for=\"sk-estimator-id-5\" class=\"sk-toggleable__label sk-toggleable__label-arrow\">GridSearchCV</label><div class=\"sk-toggleable__content\"><pre>GridSearchCV(estimator=RandomForestRegressor(),\n",
       "             param_grid={&#x27;max_features&#x27;: [2, 3, 4],\n",
       "                         &#x27;n_estimators&#x27;: [5, 50, 64, 100]})</pre></div></div></div><div class=\"sk-parallel\"><div class=\"sk-parallel-item\"><div class=\"sk-item\"><div class=\"sk-label-container\"><div class=\"sk-label sk-toggleable\"><input class=\"sk-toggleable__control sk-hidden--visually\" id=\"sk-estimator-id-6\" type=\"checkbox\" ><label for=\"sk-estimator-id-6\" class=\"sk-toggleable__label sk-toggleable__label-arrow\">estimator: RandomForestRegressor</label><div class=\"sk-toggleable__content\"><pre>RandomForestRegressor()</pre></div></div></div><div class=\"sk-serial\"><div class=\"sk-item\"><div class=\"sk-estimator sk-toggleable\"><input class=\"sk-toggleable__control sk-hidden--visually\" id=\"sk-estimator-id-7\" type=\"checkbox\" ><label for=\"sk-estimator-id-7\" class=\"sk-toggleable__label sk-toggleable__label-arrow\">RandomForestRegressor</label><div class=\"sk-toggleable__content\"><pre>RandomForestRegressor()</pre></div></div></div></div></div></div></div></div></div></div>"
      ],
      "text/plain": [
       "GridSearchCV(estimator=RandomForestRegressor(),\n",
       "             param_grid={'max_features': [2, 3, 4],\n",
       "                         'n_estimators': [5, 50, 64, 100]})"
      ]
     },
     "execution_count": 18,
     "metadata": {},
     "output_type": "execute_result"
    }
   ],
   "source": [
    "grid.fit(scaled_X_train,y_train)"
   ]
  },
  {
   "cell_type": "code",
   "execution_count": 19,
   "id": "d050249e-8ec2-4c81-b74c-314215f808e5",
   "metadata": {
    "execution": {
     "iopub.execute_input": "2024-06-05T06:52:30.849010Z",
     "iopub.status.busy": "2024-06-05T06:52:30.849010Z",
     "iopub.status.idle": "2024-06-05T06:52:30.911943Z",
     "shell.execute_reply": "2024-06-05T06:52:30.910945Z",
     "shell.execute_reply.started": "2024-06-05T06:52:30.849010Z"
    }
   },
   "outputs": [
    {
     "data": {
      "text/plain": [
       "23.243778622501928"
      ]
     },
     "execution_count": 19,
     "metadata": {},
     "output_type": "execute_result"
    }
   ],
   "source": [
    "pred = grid.predict(scaled_X_test)\n",
    "rmse = np.sqrt(mean_squared_error(y_test,pred))\n",
    "rmse"
   ]
  },
  {
   "cell_type": "code",
   "execution_count": 31,
   "id": "f878433c-128a-422d-8c6b-47d38896cce9",
   "metadata": {
    "execution": {
     "iopub.execute_input": "2024-06-05T06:52:53.379768Z",
     "iopub.status.busy": "2024-06-05T06:52:53.379768Z",
     "iopub.status.idle": "2024-06-05T06:52:53.391735Z",
     "shell.execute_reply": "2024-06-05T06:52:53.391735Z",
     "shell.execute_reply.started": "2024-06-05T06:52:53.379768Z"
    }
   },
   "outputs": [
    {
     "data": {
      "text/plain": [
       "14.832253990049406"
      ]
     },
     "execution_count": 31,
     "metadata": {},
     "output_type": "execute_result"
    }
   ],
   "source": [
    "mean_absolute_error(y_test,pred)"
   ]
  },
  {
   "cell_type": "code",
   "execution_count": 20,
   "id": "c7d08403-ab6b-449c-893d-6a530779f8d4",
   "metadata": {
    "execution": {
     "iopub.execute_input": "2024-06-05T06:52:30.912938Z",
     "iopub.status.busy": "2024-06-05T06:52:30.911943Z",
     "iopub.status.idle": "2024-06-05T06:52:30.927899Z",
     "shell.execute_reply": "2024-06-05T06:52:30.926909Z",
     "shell.execute_reply.started": "2024-06-05T06:52:30.912938Z"
    }
   },
   "outputs": [
    {
     "data": {
      "text/plain": [
       "{'max_features': 3, 'n_estimators': 100}"
      ]
     },
     "execution_count": 20,
     "metadata": {},
     "output_type": "execute_result"
    }
   ],
   "source": [
    "grid.best_params_"
   ]
  },
  {
   "cell_type": "markdown",
   "id": "004e51c9-dc55-4351-91d0-c0f4468040df",
   "metadata": {},
   "source": [
    "<mark>Based on result Random Forest is a good choice</mark>"
   ]
  },
  {
   "cell_type": "markdown",
   "id": "3ea36762-3063-41e2-ba6a-c1a251345253",
   "metadata": {},
   "source": [
    "<h3><mark>testing the model</mark></h3>"
   ]
  },
  {
   "cell_type": "code",
   "execution_count": 32,
   "id": "da65ae0e-ebf2-48a0-9ac3-143ffa77ffc3",
   "metadata": {
    "execution": {
     "iopub.execute_input": "2024-06-05T06:53:13.546579Z",
     "iopub.status.busy": "2024-06-05T06:53:13.546579Z",
     "iopub.status.idle": "2024-06-05T06:53:14.706478Z",
     "shell.execute_reply": "2024-06-05T06:53:14.705677Z",
     "shell.execute_reply.started": "2024-06-05T06:53:13.546579Z"
    }
   },
   "outputs": [
    {
     "data": {
      "text/html": [
       "<style>#sk-container-id-6 {color: black;}#sk-container-id-6 pre{padding: 0;}#sk-container-id-6 div.sk-toggleable {background-color: white;}#sk-container-id-6 label.sk-toggleable__label {cursor: pointer;display: block;width: 100%;margin-bottom: 0;padding: 0.3em;box-sizing: border-box;text-align: center;}#sk-container-id-6 label.sk-toggleable__label-arrow:before {content: \"▸\";float: left;margin-right: 0.25em;color: #696969;}#sk-container-id-6 label.sk-toggleable__label-arrow:hover:before {color: black;}#sk-container-id-6 div.sk-estimator:hover label.sk-toggleable__label-arrow:before {color: black;}#sk-container-id-6 div.sk-toggleable__content {max-height: 0;max-width: 0;overflow: hidden;text-align: left;background-color: #f0f8ff;}#sk-container-id-6 div.sk-toggleable__content pre {margin: 0.2em;color: black;border-radius: 0.25em;background-color: #f0f8ff;}#sk-container-id-6 input.sk-toggleable__control:checked~div.sk-toggleable__content {max-height: 200px;max-width: 100%;overflow: auto;}#sk-container-id-6 input.sk-toggleable__control:checked~label.sk-toggleable__label-arrow:before {content: \"▾\";}#sk-container-id-6 div.sk-estimator input.sk-toggleable__control:checked~label.sk-toggleable__label {background-color: #d4ebff;}#sk-container-id-6 div.sk-label input.sk-toggleable__control:checked~label.sk-toggleable__label {background-color: #d4ebff;}#sk-container-id-6 input.sk-hidden--visually {border: 0;clip: rect(1px 1px 1px 1px);clip: rect(1px, 1px, 1px, 1px);height: 1px;margin: -1px;overflow: hidden;padding: 0;position: absolute;width: 1px;}#sk-container-id-6 div.sk-estimator {font-family: monospace;background-color: #f0f8ff;border: 1px dotted black;border-radius: 0.25em;box-sizing: border-box;margin-bottom: 0.5em;}#sk-container-id-6 div.sk-estimator:hover {background-color: #d4ebff;}#sk-container-id-6 div.sk-parallel-item::after {content: \"\";width: 100%;border-bottom: 1px solid gray;flex-grow: 1;}#sk-container-id-6 div.sk-label:hover label.sk-toggleable__label {background-color: #d4ebff;}#sk-container-id-6 div.sk-serial::before {content: \"\";position: absolute;border-left: 1px solid gray;box-sizing: border-box;top: 0;bottom: 0;left: 50%;z-index: 0;}#sk-container-id-6 div.sk-serial {display: flex;flex-direction: column;align-items: center;background-color: white;padding-right: 0.2em;padding-left: 0.2em;position: relative;}#sk-container-id-6 div.sk-item {position: relative;z-index: 1;}#sk-container-id-6 div.sk-parallel {display: flex;align-items: stretch;justify-content: center;background-color: white;position: relative;}#sk-container-id-6 div.sk-item::before, #sk-container-id-6 div.sk-parallel-item::before {content: \"\";position: absolute;border-left: 1px solid gray;box-sizing: border-box;top: 0;bottom: 0;left: 50%;z-index: -1;}#sk-container-id-6 div.sk-parallel-item {display: flex;flex-direction: column;z-index: 1;position: relative;background-color: white;}#sk-container-id-6 div.sk-parallel-item:first-child::after {align-self: flex-end;width: 50%;}#sk-container-id-6 div.sk-parallel-item:last-child::after {align-self: flex-start;width: 50%;}#sk-container-id-6 div.sk-parallel-item:only-child::after {width: 0;}#sk-container-id-6 div.sk-dashed-wrapped {border: 1px dashed gray;margin: 0 0.4em 0.5em 0.4em;box-sizing: border-box;padding-bottom: 0.4em;background-color: white;}#sk-container-id-6 div.sk-label label {font-family: monospace;font-weight: bold;display: inline-block;line-height: 1.2em;}#sk-container-id-6 div.sk-label-container {text-align: center;}#sk-container-id-6 div.sk-container {/* jupyter's `normalize.less` sets `[hidden] { display: none; }` but bootstrap.min.css set `[hidden] { display: none !important; }` so we also need the `!important` here to be able to override the default hidden behavior on the sphinx rendered scikit-learn.org. See: https://github.com/scikit-learn/scikit-learn/issues/21755 */display: inline-block !important;position: relative;}#sk-container-id-6 div.sk-text-repr-fallback {display: none;}</style><div id=\"sk-container-id-6\" class=\"sk-top-container\"><div class=\"sk-text-repr-fallback\"><pre>RandomForestRegressor(max_features=3)</pre><b>In a Jupyter environment, please rerun this cell to show the HTML representation or trust the notebook. <br />On GitHub, the HTML representation is unable to render, please try loading this page with nbviewer.org.</b></div><div class=\"sk-container\" hidden><div class=\"sk-item\"><div class=\"sk-estimator sk-toggleable\"><input class=\"sk-toggleable__control sk-hidden--visually\" id=\"sk-estimator-id-10\" type=\"checkbox\" checked><label for=\"sk-estimator-id-10\" class=\"sk-toggleable__label sk-toggleable__label-arrow\">RandomForestRegressor</label><div class=\"sk-toggleable__content\"><pre>RandomForestRegressor(max_features=3)</pre></div></div></div></div></div>"
      ],
      "text/plain": [
       "RandomForestRegressor(max_features=3)"
      ]
     },
     "execution_count": 32,
     "metadata": {},
     "output_type": "execute_result"
    }
   ],
   "source": [
    "model = RandomForestRegressor(max_features=3 , n_estimators=100)\n",
    "model.fit(scaled_X_train, y_train)"
   ]
  },
  {
   "cell_type": "code",
   "execution_count": 33,
   "id": "c750c820-e768-41e6-9427-fb44345598ed",
   "metadata": {
    "execution": {
     "iopub.execute_input": "2024-06-05T06:53:14.738636Z",
     "iopub.status.busy": "2024-06-05T06:53:14.737640Z",
     "iopub.status.idle": "2024-06-05T06:53:14.782548Z",
     "shell.execute_reply": "2024-06-05T06:53:14.782548Z",
     "shell.execute_reply.started": "2024-06-05T06:53:14.738636Z"
    }
   },
   "outputs": [],
   "source": [
    "y_predict = model.predict(scaled_X_test)"
   ]
  },
  {
   "cell_type": "code",
   "execution_count": 34,
   "id": "8febf7e6-c632-43cb-a548-a31ba32cf7c4",
   "metadata": {
    "execution": {
     "iopub.execute_input": "2024-06-05T06:53:15.726300Z",
     "iopub.status.busy": "2024-06-05T06:53:15.725303Z",
     "iopub.status.idle": "2024-06-05T06:53:15.739267Z",
     "shell.execute_reply": "2024-06-05T06:53:15.738269Z",
     "shell.execute_reply.started": "2024-06-05T06:53:15.726300Z"
    }
   },
   "outputs": [],
   "source": [
    "residual = y_test-y_predict"
   ]
  },
  {
   "cell_type": "markdown",
   "id": "e2c2d5cc-8227-4145-8b07-5ae8362d3589",
   "metadata": {},
   "source": [
    "<h3><mark>residual plotting</mark></h3>"
   ]
  },
  {
   "cell_type": "code",
   "execution_count": 35,
   "id": "c3bc97df-7814-453e-9f39-2a785975c12d",
   "metadata": {
    "execution": {
     "iopub.execute_input": "2024-06-05T06:53:17.101298Z",
     "iopub.status.busy": "2024-06-05T06:53:17.100333Z",
     "iopub.status.idle": "2024-06-05T06:53:17.410683Z",
     "shell.execute_reply": "2024-06-05T06:53:17.407691Z",
     "shell.execute_reply.started": "2024-06-05T06:53:17.101298Z"
    }
   },
   "outputs": [
    {
     "data": {
      "text/plain": [
       "<matplotlib.lines.Line2D at 0x1fa62406ad0>"
      ]
     },
     "execution_count": 35,
     "metadata": {},
     "output_type": "execute_result"
    },
    {
     "data": {
      "image/png": "[encoded data removed]",
      "text/plain": [
       "<Figure size 2000x500 with 2 Axes>"
      ]
     },
     "metadata": {},
     "output_type": "display_data"
    }
   ],
   "source": [
    "fig, axes = plt.subplots(1, 2 , figsize=(20,5))\n",
    "sns.histplot(residual , kde=True , ax=axes[0] , bins=20)\n",
    "sns.scatterplot(x=y_test , y=residual , ax=axes[1])\n",
    "axes[1].axhline(y=0, color='r')"
   ]
  },
  {
   "cell_type": "markdown",
   "id": "dc0c17e0-ad2e-47bf-aed1-73cabbda0f4a",
   "metadata": {},
   "source": [
    "Final Model Train"
   ]
  },
  {
   "cell_type": "code",
   "execution_count": 37,
   "id": "760a7709-c2b5-414b-9584-143f6af19f63",
   "metadata": {
    "execution": {
     "iopub.execute_input": "2024-06-05T06:53:25.174295Z",
     "iopub.status.busy": "2024-06-05T06:53:25.173299Z",
     "iopub.status.idle": "2024-06-05T06:53:25.204215Z",
     "shell.execute_reply": "2024-06-05T06:53:25.203249Z",
     "shell.execute_reply.started": "2024-06-05T06:53:25.173299Z"
    }
   },
   "outputs": [],
   "source": [
    "scaled_X = standard.fit_transform(X)"
   ]
  },
  {
   "cell_type": "code",
   "execution_count": 38,
   "id": "bb962956-d4c6-4c26-a163-8ffaacf49cf1",
   "metadata": {
    "execution": {
     "iopub.execute_input": "2024-06-05T06:53:35.926429Z",
     "iopub.status.busy": "2024-06-05T06:53:35.925432Z",
     "iopub.status.idle": "2024-06-05T06:53:37.514848Z",
     "shell.execute_reply": "2024-06-05T06:53:37.513885Z",
     "shell.execute_reply.started": "2024-06-05T06:53:35.926429Z"
    }
   },
   "outputs": [
    {
     "data": {
      "text/html": [
       "<style>#sk-container-id-7 {color: black;}#sk-container-id-7 pre{padding: 0;}#sk-container-id-7 div.sk-toggleable {background-color: white;}#sk-container-id-7 label.sk-toggleable__label {cursor: pointer;display: block;width: 100%;margin-bottom: 0;padding: 0.3em;box-sizing: border-box;text-align: center;}#sk-container-id-7 label.sk-toggleable__label-arrow:before {content: \"▸\";float: left;margin-right: 0.25em;color: #696969;}#sk-container-id-7 label.sk-toggleable__label-arrow:hover:before {color: black;}#sk-container-id-7 div.sk-estimator:hover label.sk-toggleable__label-arrow:before {color: black;}#sk-container-id-7 div.sk-toggleable__content {max-height: 0;max-width: 0;overflow: hidden;text-align: left;background-color: #f0f8ff;}#sk-container-id-7 div.sk-toggleable__content pre {margin: 0.2em;color: black;border-radius: 0.25em;background-color: #f0f8ff;}#sk-container-id-7 input.sk-toggleable__control:checked~div.sk-toggleable__content {max-height: 200px;max-width: 100%;overflow: auto;}#sk-container-id-7 input.sk-toggleable__control:checked~label.sk-toggleable__label-arrow:before {content: \"▾\";}#sk-container-id-7 div.sk-estimator input.sk-toggleable__control:checked~label.sk-toggleable__label {background-color: #d4ebff;}#sk-container-id-7 div.sk-label input.sk-toggleable__control:checked~label.sk-toggleable__label {background-color: #d4ebff;}#sk-container-id-7 input.sk-hidden--visually {border: 0;clip: rect(1px 1px 1px 1px);clip: rect(1px, 1px, 1px, 1px);height: 1px;margin: -1px;overflow: hidden;padding: 0;position: absolute;width: 1px;}#sk-container-id-7 div.sk-estimator {font-family: monospace;background-color: #f0f8ff;border: 1px dotted black;border-radius: 0.25em;box-sizing: border-box;margin-bottom: 0.5em;}#sk-container-id-7 div.sk-estimator:hover {background-color: #d4ebff;}#sk-container-id-7 div.sk-parallel-item::after {content: \"\";width: 100%;border-bottom: 1px solid gray;flex-grow: 1;}#sk-container-id-7 div.sk-label:hover label.sk-toggleable__label {background-color: #d4ebff;}#sk-container-id-7 div.sk-serial::before {content: \"\";position: absolute;border-left: 1px solid gray;box-sizing: border-box;top: 0;bottom: 0;left: 50%;z-index: 0;}#sk-container-id-7 div.sk-serial {display: flex;flex-direction: column;align-items: center;background-color: white;padding-right: 0.2em;padding-left: 0.2em;position: relative;}#sk-container-id-7 div.sk-item {position: relative;z-index: 1;}#sk-container-id-7 div.sk-parallel {display: flex;align-items: stretch;justify-content: center;background-color: white;position: relative;}#sk-container-id-7 div.sk-item::before, #sk-container-id-7 div.sk-parallel-item::before {content: \"\";position: absolute;border-left: 1px solid gray;box-sizing: border-box;top: 0;bottom: 0;left: 50%;z-index: -1;}#sk-container-id-7 div.sk-parallel-item {display: flex;flex-direction: column;z-index: 1;position: relative;background-color: white;}#sk-container-id-7 div.sk-parallel-item:first-child::after {align-self: flex-end;width: 50%;}#sk-container-id-7 div.sk-parallel-item:last-child::after {align-self: flex-start;width: 50%;}#sk-container-id-7 div.sk-parallel-item:only-child::after {width: 0;}#sk-container-id-7 div.sk-dashed-wrapped {border: 1px dashed gray;margin: 0 0.4em 0.5em 0.4em;box-sizing: border-box;padding-bottom: 0.4em;background-color: white;}#sk-container-id-7 div.sk-label label {font-family: monospace;font-weight: bold;display: inline-block;line-height: 1.2em;}#sk-container-id-7 div.sk-label-container {text-align: center;}#sk-container-id-7 div.sk-container {/* jupyter's `normalize.less` sets `[hidden] { display: none; }` but bootstrap.min.css set `[hidden] { display: none !important; }` so we also need the `!important` here to be able to override the default hidden behavior on the sphinx rendered scikit-learn.org. See: https://github.com/scikit-learn/scikit-learn/issues/21755 */display: inline-block !important;position: relative;}#sk-container-id-7 div.sk-text-repr-fallback {display: none;}</style><div id=\"sk-container-id-7\" class=\"sk-top-container\"><div class=\"sk-text-repr-fallback\"><pre>RandomForestRegressor(max_features=3)</pre><b>In a Jupyter environment, please rerun this cell to show the HTML representation or trust the notebook. <br />On GitHub, the HTML representation is unable to render, please try loading this page with nbviewer.org.</b></div><div class=\"sk-container\" hidden><div class=\"sk-item\"><div class=\"sk-estimator sk-toggleable\"><input class=\"sk-toggleable__control sk-hidden--visually\" id=\"sk-estimator-id-11\" type=\"checkbox\" checked><label for=\"sk-estimator-id-11\" class=\"sk-toggleable__label sk-toggleable__label-arrow\">RandomForestRegressor</label><div class=\"sk-toggleable__content\"><pre>RandomForestRegressor(max_features=3)</pre></div></div></div></div></div>"
      ],
      "text/plain": [
       "RandomForestRegressor(max_features=3)"
      ]
     },
     "execution_count": 38,
     "metadata": {},
     "output_type": "execute_result"
    }
   ],
   "source": [
    "model = RandomForestRegressor(max_features=3 , n_estimators=100)\n",
    "model.fit(scaled_X, y)"
   ]
  },
  {
   "cell_type": "code",
   "execution_count": 47,
   "id": "d7937442-21d5-4644-b747-f9f40fa84efb",
   "metadata": {
    "execution": {
     "iopub.execute_input": "2024-06-05T06:55:28.684893Z",
     "iopub.status.busy": "2024-06-05T06:55:28.683895Z",
     "iopub.status.idle": "2024-06-05T06:55:28.696860Z",
     "shell.execute_reply": "2024-06-05T06:55:28.696860Z",
     "shell.execute_reply.started": "2024-06-05T06:55:28.684893Z"
    }
   },
   "outputs": [],
   "source": [
    "import numpy as np\n",
    "\n",
    "def predict_price(Area, Bedrooms,New, Lift, location):\n",
    "    # Create an array of zeros with the length equal to the number of features\n",
    "    x = np.zeros(len(X.columns))\n",
    "    \n",
    "    # Assign the raw Area, Bedrooms, and Lift to the corresponding positions in the array\n",
    "    x[0] = Area\n",
    "    x[1] = Bedrooms\n",
    "    x[2] = New\n",
    "    x[3] = Lift\n",
    "    \n",
    "    # Find the index of the location and set it to 1 if found\n",
    "    if location in X.columns:\n",
    "        loc_index = np.where(X.columns == location)[0][0]\n",
    "        x[loc_index] = 1\n",
    "    \n",
    "    # Transform the feature vector using the fitted scaler\n",
    "    x = standard.transform([x])\n",
    "    \n",
    "    # Return the predicted price\n",
    "    return model.predict(x)[0]\n",
    "\n"
   ]
  },
  {
   "cell_type": "markdown",
   "id": "e6c7cb03-26f8-4bae-bad3-8fef589b9715",
   "metadata": {},
   "source": [
    "<h3><mark>Final test</mark></h3>"
   ]
  },
  {
   "cell_type": "code",
   "execution_count": 48,
   "id": "597b168b-d6a8-4348-aa41-bfc16db1110b",
   "metadata": {
    "execution": {
     "iopub.execute_input": "2024-06-05T06:55:29.476821Z",
     "iopub.status.busy": "2024-06-05T06:55:29.476821Z",
     "iopub.status.idle": "2024-06-05T06:55:29.494774Z",
     "shell.execute_reply": "2024-06-05T06:55:29.493776Z",
     "shell.execute_reply.started": "2024-06-05T06:55:29.476821Z"
    }
   },
   "outputs": [
    {
     "data": {
      "text/plain": [
       "Index(['Area', 'No. of Bedrooms', 'New/Resale', 'Lift Available',\n",
       "       'Location_Airoli', 'Location_Ambernath East', 'Location_Ambernath West',\n",
       "       'Location_Andheri', 'Location_Andheri East', 'Location_Andheri West',\n",
       "       'Location_Badlapur East', 'Location_Bandra East',\n",
       "       'Location_Bandra West', 'Location_Belapur', 'Location_Bhandup West',\n",
       "       'Location_Bhayandar East', 'Location_Bhiwandi', 'Location_Boisar',\n",
       "       'Location_Borivali East', 'Location_Borivali West', 'Location_Chembur',\n",
       "       'Location_Chembur East', 'Location_Dahisar', 'Location_Dahisar East',\n",
       "       'Location_Dahisar West', 'Location_Dattapada', 'Location_Dombivali',\n",
       "       'Location_Dombivali East', 'Location_Dombivli (West)',\n",
       "       'Location_Dronagiri', 'Location_Ghansoli', 'Location_Ghatkopar',\n",
       "       'Location_Ghatkopar West', 'Location_Goregaon',\n",
       "       'Location_Goregaon East', 'Location_Goregaon West',\n",
       "       'Location_Jogeshwari West', 'Location_Juhu', 'Location_Kalwa',\n",
       "       'Location_Kalyan East', 'Location_Kalyan West', 'Location_Kamothe',\n",
       "       'Location_Kandivali East', 'Location_Kandivali West',\n",
       "       'Location_Kanjurmarg', 'Location_Karanjade', 'Location_Kharghar',\n",
       "       'Location_Koper Khairane', 'Location_Koproli', 'Location_Kurla',\n",
       "       'Location_Kurla West', 'Location_Magathane', 'Location_Majiwada',\n",
       "       'Location_Malad East', 'Location_Malad West', 'Location_Mira Road East',\n",
       "       'Location_Mira Road and Beyond', 'Location_Mulund East',\n",
       "       'Location_Mulund West', 'Location_Naigaon East', 'Location_Nala Sopara',\n",
       "       'Location_Nalasopara East', 'Location_Nalasopara West',\n",
       "       'Location_Nerul', 'Location_Palghar', 'Location_Panvel',\n",
       "       'Location_Parel', 'Location_Powai', 'Location_Sanpada',\n",
       "       'Location_Santacruz East', 'Location_Seawoods',\n",
       "       'Location_Sector 17 Ulwe', 'Location_Sector 19 Kharghar',\n",
       "       'Location_Sector 20 Kharghar', 'Location_Sector-18 Ulwe',\n",
       "       'Location_Sion', 'Location_Taloja', 'Location_Thane',\n",
       "       'Location_Thane West', 'Location_Titwala', 'Location_Ulwe',\n",
       "       'Location_Vasai', 'Location_Vasai West', 'Location_Vasai east',\n",
       "       'Location_Vashi', 'Location_Ville Parle East', 'Location_Virar',\n",
       "       'Location_Virar East', 'Location_Virar West', 'Location_Wadala',\n",
       "       'Location_Wadala East Wadala', 'Location_Worli',\n",
       "       'Location_matunga east', 'Location_mumbai'],\n",
       "      dtype='object')"
      ]
     },
     "execution_count": 48,
     "metadata": {},
     "output_type": "execute_result"
    }
   ],
   "source": [
    "X.columns"
   ]
  },
  {
   "cell_type": "code",
   "execution_count": 64,
   "id": "0894884f-b8d4-4cb1-b6c4-42a68f8dba62",
   "metadata": {
    "execution": {
     "iopub.execute_input": "2024-06-05T07:01:27.383457Z",
     "iopub.status.busy": "2024-06-05T07:01:27.383457Z",
     "iopub.status.idle": "2024-06-05T07:01:27.400411Z",
     "shell.execute_reply": "2024-06-05T07:01:27.399414Z",
     "shell.execute_reply.started": "2024-06-05T07:01:27.383457Z"
    }
   },
   "outputs": [
    {
     "name": "stderr",
     "output_type": "stream",
     "text": [
      "C:\\Users\\SAMI\\AppData\\Local\\Programs\\Python\\Python310\\lib\\site-packages\\sklearn\\base.py:465: UserWarning: X does not have valid feature names, but StandardScaler was fitted with feature names\n",
      "  warnings.warn(\n"
     ]
    },
    {
     "data": {
      "text/plain": [
       "115.8937993"
      ]
     },
     "execution_count": 64,
     "metadata": {},
     "output_type": "execute_result"
    }
   ],
   "source": [
    "predict_price(Area=600, Bedrooms=2, New=1, Lift=0, location='Location_Ghatkopar')"
   ]
  },
  {
   "cell_type": "markdown",
   "id": "260e4e72-45cd-4d9a-81ec-9085b19ed5f0",
   "metadata": {},
   "source": [
    "<mark>Reasobaly accurate result compared to pricing on housing sites</mark>"
   ]
  },
  {
   "cell_type": "code",
   "execution_count": null,
   "id": "9b16b154-8572-4aff-9d9f-08c966656610",
   "metadata": {},
   "outputs": [],
   "source": []
  }
 ],
 "metadata": {
  "kernelspec": {
   "display_name": "Python 3 (ipykernel)",
   "language": "python",
   "name": "python3"
  },
  "language_info": {
   "codemirror_mode": {
    "name": "ipython",
    "version": 3
   },
   "file_extension": ".py",
   "mimetype": "text/x-python",
   "name": "python",
   "nbconvert_exporter": "python",
   "pygments_lexer": "ipython3",
   "version": "3.10.0"
  }
 },
 "nbformat": 4,
 "nbformat_minor": 5
}
