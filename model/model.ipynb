{
 "cells": [
  {
   "cell_type": "code",
   "execution_count": 2,
   "id": "2f7e0f73-5303-42ec-87b2-62789d9424ce",
   "metadata": {
    "execution": {
     "iopub.execute_input": "2024-06-05T07:05:29.834130Z",
     "iopub.status.busy": "2024-06-05T07:05:29.833135Z",
     "iopub.status.idle": "2024-06-05T07:05:29.848092Z",
     "shell.execute_reply": "2024-06-05T07:05:29.848092Z",
     "shell.execute_reply.started": "2024-06-05T07:05:29.834130Z"
    }
   },
   "outputs": [],
   "source": [
    "from sklearn.preprocessing import StandardScaler \n",
    "from sklearn.ensemble import RandomForestRegressor\n",
    "import pandas as pd\n",
    "from joblib import dump,load"
   ]
  },
  {
   "cell_type": "code",
   "execution_count": 3,
   "id": "9a50216f-141b-4503-87cb-4a06d674bf57",
   "metadata": {
    "execution": {
     "iopub.execute_input": "2024-06-05T07:05:40.660216Z",
     "iopub.status.busy": "2024-06-05T07:05:40.659219Z",
     "iopub.status.idle": "2024-06-05T07:05:40.732387Z",
     "shell.execute_reply": "2024-06-05T07:05:40.731380Z",
     "shell.execute_reply.started": "2024-06-05T07:05:40.660216Z"
    }
   },
   "outputs": [],
   "source": [
    "df = pd.read_csv('./house_data_final.csv')"
   ]
  },
  {
   "cell_type": "code",
   "execution_count": 4,
   "id": "dbeb05c3-2f24-4abf-a0e9-b62306acfe79",
   "metadata": {
    "execution": {
     "iopub.execute_input": "2024-06-05T07:05:50.557431Z",
     "iopub.status.busy": "2024-06-05T07:05:50.556434Z",
     "iopub.status.idle": "2024-06-05T07:05:50.566407Z",
     "shell.execute_reply": "2024-06-05T07:05:50.565409Z",
     "shell.execute_reply.started": "2024-06-05T07:05:50.557431Z"
    }
   },
   "outputs": [],
   "source": [
    "X = df.drop('Price' , axis=1)\n",
    "y = df['Price']"
   ]
  },
  {
   "cell_type": "code",
   "execution_count": 5,
   "id": "603ece36-0c7d-4971-a944-702da9bcea74",
   "metadata": {
    "execution": {
     "iopub.execute_input": "2024-06-05T07:05:57.843592Z",
     "iopub.status.busy": "2024-06-05T07:05:57.842595Z",
     "iopub.status.idle": "2024-06-05T07:05:57.861543Z",
     "shell.execute_reply": "2024-06-05T07:05:57.860547Z",
     "shell.execute_reply.started": "2024-06-05T07:05:57.843592Z"
    }
   },
   "outputs": [],
   "source": [
    "standard = StandardScaler()"
   ]
  },
  {
   "cell_type": "code",
   "execution_count": 6,
   "id": "1b174d8c-7d6c-49c0-991a-87653995706a",
   "metadata": {
    "execution": {
     "iopub.execute_input": "2024-06-05T07:06:07.337969Z",
     "iopub.status.busy": "2024-06-05T07:06:07.337969Z",
     "iopub.status.idle": "2024-06-05T07:06:09.313154Z",
     "shell.execute_reply": "2024-06-05T07:06:09.313154Z",
     "shell.execute_reply.started": "2024-06-05T07:06:07.337969Z"
    }
   },
   "outputs": [
    {
     "data": {
      "text/html": [
       "<style>#sk-container-id-1 {color: black;}#sk-container-id-1 pre{padding: 0;}#sk-container-id-1 div.sk-toggleable {background-color: white;}#sk-container-id-1 label.sk-toggleable__label {cursor: pointer;display: block;width: 100%;margin-bottom: 0;padding: 0.3em;box-sizing: border-box;text-align: center;}#sk-container-id-1 label.sk-toggleable__label-arrow:before {content: \"▸\";float: left;margin-right: 0.25em;color: #696969;}#sk-container-id-1 label.sk-toggleable__label-arrow:hover:before {color: black;}#sk-container-id-1 div.sk-estimator:hover label.sk-toggleable__label-arrow:before {color: black;}#sk-container-id-1 div.sk-toggleable__content {max-height: 0;max-width: 0;overflow: hidden;text-align: left;background-color: #f0f8ff;}#sk-container-id-1 div.sk-toggleable__content pre {margin: 0.2em;color: black;border-radius: 0.25em;background-color: #f0f8ff;}#sk-container-id-1 input.sk-toggleable__control:checked~div.sk-toggleable__content {max-height: 200px;max-width: 100%;overflow: auto;}#sk-container-id-1 input.sk-toggleable__control:checked~label.sk-toggleable__label-arrow:before {content: \"▾\";}#sk-container-id-1 div.sk-estimator input.sk-toggleable__control:checked~label.sk-toggleable__label {background-color: #d4ebff;}#sk-container-id-1 div.sk-label input.sk-toggleable__control:checked~label.sk-toggleable__label {background-color: #d4ebff;}#sk-container-id-1 input.sk-hidden--visually {border: 0;clip: rect(1px 1px 1px 1px);clip: rect(1px, 1px, 1px, 1px);height: 1px;margin: -1px;overflow: hidden;padding: 0;position: absolute;width: 1px;}#sk-container-id-1 div.sk-estimator {font-family: monospace;background-color: #f0f8ff;border: 1px dotted black;border-radius: 0.25em;box-sizing: border-box;margin-bottom: 0.5em;}#sk-container-id-1 div.sk-estimator:hover {background-color: #d4ebff;}#sk-container-id-1 div.sk-parallel-item::after {content: \"\";width: 100%;border-bottom: 1px solid gray;flex-grow: 1;}#sk-container-id-1 div.sk-label:hover label.sk-toggleable__label {background-color: #d4ebff;}#sk-container-id-1 div.sk-serial::before {content: \"\";position: absolute;border-left: 1px solid gray;box-sizing: border-box;top: 0;bottom: 0;left: 50%;z-index: 0;}#sk-container-id-1 div.sk-serial {display: flex;flex-direction: column;align-items: center;background-color: white;padding-right: 0.2em;padding-left: 0.2em;position: relative;}#sk-container-id-1 div.sk-item {position: relative;z-index: 1;}#sk-container-id-1 div.sk-parallel {display: flex;align-items: stretch;justify-content: center;background-color: white;position: relative;}#sk-container-id-1 div.sk-item::before, #sk-container-id-1 div.sk-parallel-item::before {content: \"\";position: absolute;border-left: 1px solid gray;box-sizing: border-box;top: 0;bottom: 0;left: 50%;z-index: -1;}#sk-container-id-1 div.sk-parallel-item {display: flex;flex-direction: column;z-index: 1;position: relative;background-color: white;}#sk-container-id-1 div.sk-parallel-item:first-child::after {align-self: flex-end;width: 50%;}#sk-container-id-1 div.sk-parallel-item:last-child::after {align-self: flex-start;width: 50%;}#sk-container-id-1 div.sk-parallel-item:only-child::after {width: 0;}#sk-container-id-1 div.sk-dashed-wrapped {border: 1px dashed gray;margin: 0 0.4em 0.5em 0.4em;box-sizing: border-box;padding-bottom: 0.4em;background-color: white;}#sk-container-id-1 div.sk-label label {font-family: monospace;font-weight: bold;display: inline-block;line-height: 1.2em;}#sk-container-id-1 div.sk-label-container {text-align: center;}#sk-container-id-1 div.sk-container {/* jupyter's `normalize.less` sets `[hidden] { display: none; }` but bootstrap.min.css set `[hidden] { display: none !important; }` so we also need the `!important` here to be able to override the default hidden behavior on the sphinx rendered scikit-learn.org. See: https://github.com/scikit-learn/scikit-learn/issues/21755 */display: inline-block !important;position: relative;}#sk-container-id-1 div.sk-text-repr-fallback {display: none;}</style><div id=\"sk-container-id-1\" class=\"sk-top-container\"><div class=\"sk-text-repr-fallback\"><pre>RandomForestRegressor(max_features=3)</pre><b>In a Jupyter environment, please rerun this cell to show the HTML representation or trust the notebook. <br />On GitHub, the HTML representation is unable to render, please try loading this page with nbviewer.org.</b></div><div class=\"sk-container\" hidden><div class=\"sk-item\"><div class=\"sk-estimator sk-toggleable\"><input class=\"sk-toggleable__control sk-hidden--visually\" id=\"sk-estimator-id-1\" type=\"checkbox\" checked><label for=\"sk-estimator-id-1\" class=\"sk-toggleable__label sk-toggleable__label-arrow\">RandomForestRegressor</label><div class=\"sk-toggleable__content\"><pre>RandomForestRegressor(max_features=3)</pre></div></div></div></div></div>"
      ],
      "text/plain": [
       "RandomForestRegressor(max_features=3)"
      ]
     },
     "execution_count": 6,
     "metadata": {},
     "output_type": "execute_result"
    }
   ],
   "source": [
    "scaled_X = standard.fit_transform(X)\n",
    "model = RandomForestRegressor(max_features=3 , n_estimators=100)\n",
    "model.fit(scaled_X, y)"
   ]
  },
  {
   "cell_type": "code",
   "execution_count": 7,
   "id": "6eef16de-9d8f-4f62-9631-2a129b4d0625",
   "metadata": {
    "execution": {
     "iopub.execute_input": "2024-06-05T07:06:17.826979Z",
     "iopub.status.busy": "2024-06-05T07:06:17.825978Z",
     "iopub.status.idle": "2024-06-05T07:06:17.904293Z",
     "shell.execute_reply": "2024-06-05T07:06:17.903286Z",
     "shell.execute_reply.started": "2024-06-05T07:06:17.826979Z"
    }
   },
   "outputs": [
    {
     "data": {
      "text/plain": [
       "['house_prediction_model.joblib']"
      ]
     },
     "execution_count": 7,
     "metadata": {},
     "output_type": "execute_result"
    }
   ],
   "source": [
    "# Serializing Model #\n",
    "dump(model , \"house_prediction_model.joblib\")"
   ]
  },
  {
   "cell_type": "code",
   "execution_count": null,
   "id": "e77c58cf-8a2e-4a6c-9be5-64faff2984a1",
   "metadata": {},
   "outputs": [],
   "source": []
  }
 ],
 "metadata": {
  "kernelspec": {
   "display_name": "Python 3 (ipykernel)",
   "language": "python",
   "name": "python3"
  },
  "language_info": {
   "codemirror_mode": {
    "name": "ipython",
    "version": 3
   },
   "file_extension": ".py",
   "mimetype": "text/x-python",
   "name": "python",
   "nbconvert_exporter": "python",
   "pygments_lexer": "ipython3",
   "version": "3.10.0"
  }
 },
 "nbformat": 4,
 "nbformat_minor": 5
}
