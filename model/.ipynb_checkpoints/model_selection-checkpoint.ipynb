{
 "cells": [
  {
   "cell_type": "code",
   "execution_count": 1,
   "id": "7d055d29-869c-487a-8d53-a63b39191194",
   "metadata": {
    "execution": {
     "iopub.execute_input": "2024-05-24T20:14:15.164407Z",
     "iopub.status.busy": "2024-05-24T20:14:15.164407Z",
     "iopub.status.idle": "2024-05-24T20:14:16.212085Z",
     "shell.execute_reply": "2024-05-24T20:14:16.211088Z",
     "shell.execute_reply.started": "2024-05-24T20:14:15.164407Z"
    }
   },
   "outputs": [],
   "source": [
    "import numpy as np \n",
    "import pandas as pd \n",
    "import matplotlib.pyplot as plt \n",
    "import seaborn as sns"
   ]
  },
  {
   "cell_type": "code",
   "execution_count": 2,
   "id": "2a14c22b-2b77-4d8a-8d18-b823c6e38a64",
   "metadata": {
    "execution": {
     "iopub.execute_input": "2024-05-24T20:14:16.213080Z",
     "iopub.status.busy": "2024-05-24T20:14:16.213080Z",
     "iopub.status.idle": "2024-05-24T20:14:16.273681Z",
     "shell.execute_reply": "2024-05-24T20:14:16.273681Z",
     "shell.execute_reply.started": "2024-05-24T20:14:16.213080Z"
    }
   },
   "outputs": [
    {
     "data": {
      "text/html": [
       "<div>\n",
       "<style scoped>\n",
       "    .dataframe tbody tr th:only-of-type {\n",
       "        vertical-align: middle;\n",
       "    }\n",
       "\n",
       "    .dataframe tbody tr th {\n",
       "        vertical-align: top;\n",
       "    }\n",
       "\n",
       "    .dataframe thead th {\n",
       "        text-align: right;\n",
       "    }\n",
       "</style>\n",
       "<table border=\"1\" class=\"dataframe\">\n",
       "  <thead>\n",
       "    <tr style=\"text-align: right;\">\n",
       "      <th></th>\n",
       "      <th>Price</th>\n",
       "      <th>Area</th>\n",
       "      <th>No. of Bedrooms</th>\n",
       "      <th>Lift Available</th>\n",
       "      <th>Location_Airoli</th>\n",
       "      <th>Location_Ambernath East</th>\n",
       "      <th>Location_Andheri</th>\n",
       "      <th>Location_Andheri East</th>\n",
       "      <th>Location_Andheri West</th>\n",
       "      <th>Location_Badlapur East</th>\n",
       "      <th>...</th>\n",
       "      <th>Location_Vasai West</th>\n",
       "      <th>Location_Vasai east</th>\n",
       "      <th>Location_Vashi</th>\n",
       "      <th>Location_Ville Parle East</th>\n",
       "      <th>Location_Virar</th>\n",
       "      <th>Location_Virar East</th>\n",
       "      <th>Location_Virar West</th>\n",
       "      <th>Location_Wadala</th>\n",
       "      <th>Location_Wadala East Wadala</th>\n",
       "      <th>Location_mumbai</th>\n",
       "    </tr>\n",
       "  </thead>\n",
       "  <tbody>\n",
       "    <tr>\n",
       "      <th>0</th>\n",
       "      <td>48.5</td>\n",
       "      <td>720</td>\n",
       "      <td>1</td>\n",
       "      <td>1</td>\n",
       "      <td>False</td>\n",
       "      <td>False</td>\n",
       "      <td>False</td>\n",
       "      <td>False</td>\n",
       "      <td>False</td>\n",
       "      <td>False</td>\n",
       "      <td>...</td>\n",
       "      <td>False</td>\n",
       "      <td>False</td>\n",
       "      <td>False</td>\n",
       "      <td>False</td>\n",
       "      <td>False</td>\n",
       "      <td>False</td>\n",
       "      <td>False</td>\n",
       "      <td>False</td>\n",
       "      <td>False</td>\n",
       "      <td>False</td>\n",
       "    </tr>\n",
       "    <tr>\n",
       "      <th>1</th>\n",
       "      <td>45.0</td>\n",
       "      <td>600</td>\n",
       "      <td>1</td>\n",
       "      <td>1</td>\n",
       "      <td>False</td>\n",
       "      <td>False</td>\n",
       "      <td>False</td>\n",
       "      <td>False</td>\n",
       "      <td>False</td>\n",
       "      <td>False</td>\n",
       "      <td>...</td>\n",
       "      <td>False</td>\n",
       "      <td>False</td>\n",
       "      <td>False</td>\n",
       "      <td>False</td>\n",
       "      <td>False</td>\n",
       "      <td>False</td>\n",
       "      <td>False</td>\n",
       "      <td>False</td>\n",
       "      <td>False</td>\n",
       "      <td>False</td>\n",
       "    </tr>\n",
       "    <tr>\n",
       "      <th>2</th>\n",
       "      <td>67.0</td>\n",
       "      <td>650</td>\n",
       "      <td>1</td>\n",
       "      <td>1</td>\n",
       "      <td>False</td>\n",
       "      <td>False</td>\n",
       "      <td>False</td>\n",
       "      <td>False</td>\n",
       "      <td>False</td>\n",
       "      <td>False</td>\n",
       "      <td>...</td>\n",
       "      <td>False</td>\n",
       "      <td>False</td>\n",
       "      <td>False</td>\n",
       "      <td>False</td>\n",
       "      <td>False</td>\n",
       "      <td>False</td>\n",
       "      <td>False</td>\n",
       "      <td>False</td>\n",
       "      <td>False</td>\n",
       "      <td>False</td>\n",
       "    </tr>\n",
       "    <tr>\n",
       "      <th>3</th>\n",
       "      <td>45.0</td>\n",
       "      <td>650</td>\n",
       "      <td>1</td>\n",
       "      <td>1</td>\n",
       "      <td>False</td>\n",
       "      <td>False</td>\n",
       "      <td>False</td>\n",
       "      <td>False</td>\n",
       "      <td>False</td>\n",
       "      <td>False</td>\n",
       "      <td>...</td>\n",
       "      <td>False</td>\n",
       "      <td>False</td>\n",
       "      <td>False</td>\n",
       "      <td>False</td>\n",
       "      <td>False</td>\n",
       "      <td>False</td>\n",
       "      <td>False</td>\n",
       "      <td>False</td>\n",
       "      <td>False</td>\n",
       "      <td>False</td>\n",
       "    </tr>\n",
       "    <tr>\n",
       "      <th>4</th>\n",
       "      <td>50.0</td>\n",
       "      <td>665</td>\n",
       "      <td>1</td>\n",
       "      <td>1</td>\n",
       "      <td>False</td>\n",
       "      <td>False</td>\n",
       "      <td>False</td>\n",
       "      <td>False</td>\n",
       "      <td>False</td>\n",
       "      <td>False</td>\n",
       "      <td>...</td>\n",
       "      <td>False</td>\n",
       "      <td>False</td>\n",
       "      <td>False</td>\n",
       "      <td>False</td>\n",
       "      <td>False</td>\n",
       "      <td>False</td>\n",
       "      <td>False</td>\n",
       "      <td>False</td>\n",
       "      <td>False</td>\n",
       "      <td>False</td>\n",
       "    </tr>\n",
       "    <tr>\n",
       "      <th>...</th>\n",
       "      <td>...</td>\n",
       "      <td>...</td>\n",
       "      <td>...</td>\n",
       "      <td>...</td>\n",
       "      <td>...</td>\n",
       "      <td>...</td>\n",
       "      <td>...</td>\n",
       "      <td>...</td>\n",
       "      <td>...</td>\n",
       "      <td>...</td>\n",
       "      <td>...</td>\n",
       "      <td>...</td>\n",
       "      <td>...</td>\n",
       "      <td>...</td>\n",
       "      <td>...</td>\n",
       "      <td>...</td>\n",
       "      <td>...</td>\n",
       "      <td>...</td>\n",
       "      <td>...</td>\n",
       "      <td>...</td>\n",
       "      <td>...</td>\n",
       "    </tr>\n",
       "    <tr>\n",
       "      <th>4000</th>\n",
       "      <td>26.0</td>\n",
       "      <td>530</td>\n",
       "      <td>1</td>\n",
       "      <td>1</td>\n",
       "      <td>False</td>\n",
       "      <td>False</td>\n",
       "      <td>False</td>\n",
       "      <td>False</td>\n",
       "      <td>False</td>\n",
       "      <td>False</td>\n",
       "      <td>...</td>\n",
       "      <td>False</td>\n",
       "      <td>False</td>\n",
       "      <td>False</td>\n",
       "      <td>False</td>\n",
       "      <td>False</td>\n",
       "      <td>False</td>\n",
       "      <td>False</td>\n",
       "      <td>False</td>\n",
       "      <td>False</td>\n",
       "      <td>False</td>\n",
       "    </tr>\n",
       "    <tr>\n",
       "      <th>4001</th>\n",
       "      <td>72.0</td>\n",
       "      <td>995</td>\n",
       "      <td>2</td>\n",
       "      <td>1</td>\n",
       "      <td>False</td>\n",
       "      <td>False</td>\n",
       "      <td>False</td>\n",
       "      <td>False</td>\n",
       "      <td>False</td>\n",
       "      <td>False</td>\n",
       "      <td>...</td>\n",
       "      <td>False</td>\n",
       "      <td>False</td>\n",
       "      <td>False</td>\n",
       "      <td>False</td>\n",
       "      <td>False</td>\n",
       "      <td>False</td>\n",
       "      <td>False</td>\n",
       "      <td>False</td>\n",
       "      <td>False</td>\n",
       "      <td>False</td>\n",
       "    </tr>\n",
       "    <tr>\n",
       "      <th>4002</th>\n",
       "      <td>70.0</td>\n",
       "      <td>1020</td>\n",
       "      <td>2</td>\n",
       "      <td>1</td>\n",
       "      <td>False</td>\n",
       "      <td>False</td>\n",
       "      <td>False</td>\n",
       "      <td>False</td>\n",
       "      <td>False</td>\n",
       "      <td>False</td>\n",
       "      <td>...</td>\n",
       "      <td>False</td>\n",
       "      <td>False</td>\n",
       "      <td>False</td>\n",
       "      <td>False</td>\n",
       "      <td>False</td>\n",
       "      <td>False</td>\n",
       "      <td>False</td>\n",
       "      <td>False</td>\n",
       "      <td>False</td>\n",
       "      <td>False</td>\n",
       "    </tr>\n",
       "    <tr>\n",
       "      <th>4003</th>\n",
       "      <td>145.0</td>\n",
       "      <td>900</td>\n",
       "      <td>2</td>\n",
       "      <td>0</td>\n",
       "      <td>False</td>\n",
       "      <td>False</td>\n",
       "      <td>False</td>\n",
       "      <td>False</td>\n",
       "      <td>False</td>\n",
       "      <td>False</td>\n",
       "      <td>...</td>\n",
       "      <td>False</td>\n",
       "      <td>False</td>\n",
       "      <td>False</td>\n",
       "      <td>False</td>\n",
       "      <td>False</td>\n",
       "      <td>False</td>\n",
       "      <td>False</td>\n",
       "      <td>False</td>\n",
       "      <td>False</td>\n",
       "      <td>False</td>\n",
       "    </tr>\n",
       "    <tr>\n",
       "      <th>4004</th>\n",
       "      <td>145.0</td>\n",
       "      <td>900</td>\n",
       "      <td>2</td>\n",
       "      <td>1</td>\n",
       "      <td>False</td>\n",
       "      <td>False</td>\n",
       "      <td>False</td>\n",
       "      <td>False</td>\n",
       "      <td>False</td>\n",
       "      <td>False</td>\n",
       "      <td>...</td>\n",
       "      <td>False</td>\n",
       "      <td>False</td>\n",
       "      <td>False</td>\n",
       "      <td>False</td>\n",
       "      <td>False</td>\n",
       "      <td>False</td>\n",
       "      <td>False</td>\n",
       "      <td>False</td>\n",
       "      <td>False</td>\n",
       "      <td>False</td>\n",
       "    </tr>\n",
       "  </tbody>\n",
       "</table>\n",
       "<p>4005 rows × 88 columns</p>\n",
       "</div>"
      ],
      "text/plain": [
       "      Price  Area  No. of Bedrooms  Lift Available  Location_Airoli  \\\n",
       "0      48.5   720                1               1            False   \n",
       "1      45.0   600                1               1            False   \n",
       "2      67.0   650                1               1            False   \n",
       "3      45.0   650                1               1            False   \n",
       "4      50.0   665                1               1            False   \n",
       "...     ...   ...              ...             ...              ...   \n",
       "4000   26.0   530                1               1            False   \n",
       "4001   72.0   995                2               1            False   \n",
       "4002   70.0  1020                2               1            False   \n",
       "4003  145.0   900                2               0            False   \n",
       "4004  145.0   900                2               1            False   \n",
       "\n",
       "      Location_Ambernath East  Location_Andheri  Location_Andheri East  \\\n",
       "0                       False             False                  False   \n",
       "1                       False             False                  False   \n",
       "2                       False             False                  False   \n",
       "3                       False             False                  False   \n",
       "4                       False             False                  False   \n",
       "...                       ...               ...                    ...   \n",
       "4000                    False             False                  False   \n",
       "4001                    False             False                  False   \n",
       "4002                    False             False                  False   \n",
       "4003                    False             False                  False   \n",
       "4004                    False             False                  False   \n",
       "\n",
       "      Location_Andheri West  Location_Badlapur East  ...  Location_Vasai West  \\\n",
       "0                     False                   False  ...                False   \n",
       "1                     False                   False  ...                False   \n",
       "2                     False                   False  ...                False   \n",
       "3                     False                   False  ...                False   \n",
       "4                     False                   False  ...                False   \n",
       "...                     ...                     ...  ...                  ...   \n",
       "4000                  False                   False  ...                False   \n",
       "4001                  False                   False  ...                False   \n",
       "4002                  False                   False  ...                False   \n",
       "4003                  False                   False  ...                False   \n",
       "4004                  False                   False  ...                False   \n",
       "\n",
       "      Location_Vasai east  Location_Vashi  Location_Ville Parle East  \\\n",
       "0                   False           False                      False   \n",
       "1                   False           False                      False   \n",
       "2                   False           False                      False   \n",
       "3                   False           False                      False   \n",
       "4                   False           False                      False   \n",
       "...                   ...             ...                        ...   \n",
       "4000                False           False                      False   \n",
       "4001                False           False                      False   \n",
       "4002                False           False                      False   \n",
       "4003                False           False                      False   \n",
       "4004                False           False                      False   \n",
       "\n",
       "      Location_Virar  Location_Virar East  Location_Virar West  \\\n",
       "0              False                False                False   \n",
       "1              False                False                False   \n",
       "2              False                False                False   \n",
       "3              False                False                False   \n",
       "4              False                False                False   \n",
       "...              ...                  ...                  ...   \n",
       "4000           False                False                False   \n",
       "4001           False                False                False   \n",
       "4002           False                False                False   \n",
       "4003           False                False                False   \n",
       "4004           False                False                False   \n",
       "\n",
       "      Location_Wadala  Location_Wadala East Wadala  Location_mumbai  \n",
       "0               False                        False            False  \n",
       "1               False                        False            False  \n",
       "2               False                        False            False  \n",
       "3               False                        False            False  \n",
       "4               False                        False            False  \n",
       "...               ...                          ...              ...  \n",
       "4000            False                        False            False  \n",
       "4001            False                        False            False  \n",
       "4002            False                        False            False  \n",
       "4003            False                        False            False  \n",
       "4004            False                        False            False  \n",
       "\n",
       "[4005 rows x 88 columns]"
      ]
     },
     "execution_count": 2,
     "metadata": {},
     "output_type": "execute_result"
    }
   ],
   "source": [
    "df = pd.read_csv('./house_data_final.csv')\n",
    "df"
   ]
  },
  {
   "cell_type": "code",
   "execution_count": 3,
   "id": "468c287b-d5eb-4b4a-99d2-a3b4bc80cc13",
   "metadata": {
    "execution": {
     "iopub.execute_input": "2024-05-24T20:14:16.274679Z",
     "iopub.status.busy": "2024-05-24T20:14:16.274679Z",
     "iopub.status.idle": "2024-05-24T20:14:16.493285Z",
     "shell.execute_reply": "2024-05-24T20:14:16.492268Z",
     "shell.execute_reply.started": "2024-05-24T20:14:16.274679Z"
    }
   },
   "outputs": [],
   "source": [
    "from sklearn.linear_model import ElasticNet,Lasso,LinearRegression,Ridge\n",
    "from sklearn.model_selection import train_test_split,cross_validate,GridSearchCV\n",
    "from sklearn.metrics import mean_absolute_error, mean_squared_error\n",
    "from sklearn.model_selection import ShuffleSplit\n",
    "from sklearn.model_selection import cross_val_score"
   ]
  },
  {
   "cell_type": "code",
   "execution_count": 4,
   "id": "f91d7a01-c454-40f1-923b-47b94b13c28a",
   "metadata": {
    "execution": {
     "iopub.execute_input": "2024-05-24T20:14:16.495277Z",
     "iopub.status.busy": "2024-05-24T20:14:16.494280Z",
     "iopub.status.idle": "2024-05-24T20:14:16.507414Z",
     "shell.execute_reply": "2024-05-24T20:14:16.507414Z",
     "shell.execute_reply.started": "2024-05-24T20:14:16.495277Z"
    }
   },
   "outputs": [],
   "source": [
    "X = df.drop('Price' , axis=1)\n",
    "y = df['Price']"
   ]
  },
  {
   "cell_type": "code",
   "execution_count": 5,
   "id": "b0b9d21b-c314-4608-9e97-f0bb3136c07b",
   "metadata": {
    "execution": {
     "iopub.execute_input": "2024-05-24T20:14:16.509433Z",
     "iopub.status.busy": "2024-05-24T20:14:16.508432Z",
     "iopub.status.idle": "2024-05-24T20:14:16.524200Z",
     "shell.execute_reply": "2024-05-24T20:14:16.523202Z",
     "shell.execute_reply.started": "2024-05-24T20:14:16.509433Z"
    }
   },
   "outputs": [],
   "source": [
    "X_train, X_test, y_train, y_test = train_test_split(X, y, test_size=0.3, random_state=101)"
   ]
  },
  {
   "cell_type": "code",
   "execution_count": 6,
   "id": "b17eb3c5-0c33-4975-9c12-003209b775e2",
   "metadata": {
    "execution": {
     "iopub.execute_input": "2024-05-24T20:14:16.526193Z",
     "iopub.status.busy": "2024-05-24T20:14:16.525195Z",
     "iopub.status.idle": "2024-05-24T20:14:17.351180Z",
     "shell.execute_reply": "2024-05-24T20:14:17.350214Z",
     "shell.execute_reply.started": "2024-05-24T20:14:16.525195Z"
    }
   },
   "outputs": [
    {
     "data": {
      "text/html": [
       "<div>\n",
       "<style scoped>\n",
       "    .dataframe tbody tr th:only-of-type {\n",
       "        vertical-align: middle;\n",
       "    }\n",
       "\n",
       "    .dataframe tbody tr th {\n",
       "        vertical-align: top;\n",
       "    }\n",
       "\n",
       "    .dataframe thead th {\n",
       "        text-align: right;\n",
       "    }\n",
       "</style>\n",
       "<table border=\"1\" class=\"dataframe\">\n",
       "  <thead>\n",
       "    <tr style=\"text-align: right;\">\n",
       "      <th></th>\n",
       "      <th>model</th>\n",
       "      <th>best_score</th>\n",
       "      <th>best_params</th>\n",
       "    </tr>\n",
       "  </thead>\n",
       "  <tbody>\n",
       "    <tr>\n",
       "      <th>0</th>\n",
       "      <td>linear_regression</td>\n",
       "      <td>0.846622</td>\n",
       "      <td>{}</td>\n",
       "    </tr>\n",
       "    <tr>\n",
       "      <th>1</th>\n",
       "      <td>ridge</td>\n",
       "      <td>0.845907</td>\n",
       "      <td>{'alpha': 1}</td>\n",
       "    </tr>\n",
       "    <tr>\n",
       "      <th>2</th>\n",
       "      <td>ElasticNet</td>\n",
       "      <td>0.688606</td>\n",
       "      <td>{'alpha': 0.1, 'l1_ratio': 0.7}</td>\n",
       "    </tr>\n",
       "  </tbody>\n",
       "</table>\n",
       "</div>"
      ],
      "text/plain": [
       "               model  best_score                      best_params\n",
       "0  linear_regression    0.846622                               {}\n",
       "1              ridge    0.845907                     {'alpha': 1}\n",
       "2         ElasticNet    0.688606  {'alpha': 0.1, 'l1_ratio': 0.7}"
      ]
     },
     "execution_count": 6,
     "metadata": {},
     "output_type": "execute_result"
    }
   ],
   "source": [
    "def find_best_model_using_gridsearchcv(X,y):\n",
    "    algos = {\n",
    "        'linear_regression' : {\n",
    "            'model': LinearRegression(),\n",
    "            'params': {\n",
    "            }\n",
    "        },\n",
    "        'ridge': {\n",
    "            'model': Ridge(),\n",
    "            'params': {\n",
    "                'alpha': [1,2],\n",
    "            }\n",
    "        },\n",
    "        'ElasticNet': {\n",
    "            'model': ElasticNet(),\n",
    "            'params': {\n",
    "                'alpha':[0.1,1,5],\n",
    "                'l1_ratio':[.1, .5, .7,]\n",
    "            }\n",
    "        }\n",
    "    }\n",
    "    scores = []\n",
    "    cv = ShuffleSplit(n_splits=5, test_size=0.2, random_state=0)\n",
    "    for algo_name, config in algos.items():\n",
    "        gs =  GridSearchCV(config['model'], config['params'], cv=cv, return_train_score=False)\n",
    "        gs.fit(X,y)\n",
    "        scores.append({\n",
    "            'model': algo_name,\n",
    "            'best_score': gs.best_score_,\n",
    "            'best_params': gs.best_params_\n",
    "        })\n",
    "\n",
    "    return pd.DataFrame(scores,columns=['model','best_score','best_params'])\n",
    "\n",
    "find_best_model_using_gridsearchcv(X,y)"
   ]
  },
  {
   "cell_type": "markdown",
   "id": "004e51c9-dc55-4351-91d0-c0f4468040df",
   "metadata": {},
   "source": [
    "<mark>Based on result of GridSearchCV linear regression is a good choice</mark>"
   ]
  },
  {
   "cell_type": "markdown",
   "id": "3ea36762-3063-41e2-ba6a-c1a251345253",
   "metadata": {},
   "source": [
    "<h3><mark>testing the model</mark></h3>"
   ]
  },
  {
   "cell_type": "code",
   "execution_count": 7,
   "id": "da65ae0e-ebf2-48a0-9ac3-143ffa77ffc3",
   "metadata": {
    "execution": {
     "iopub.execute_input": "2024-05-24T20:14:17.351180Z",
     "iopub.status.busy": "2024-05-24T20:14:17.351180Z",
     "iopub.status.idle": "2024-05-24T20:14:17.381689Z",
     "shell.execute_reply": "2024-05-24T20:14:17.381689Z",
     "shell.execute_reply.started": "2024-05-24T20:14:17.351180Z"
    }
   },
   "outputs": [
    {
     "data": {
      "text/html": [
       "<style>#sk-container-id-1 {color: black;}#sk-container-id-1 pre{padding: 0;}#sk-container-id-1 div.sk-toggleable {background-color: white;}#sk-container-id-1 label.sk-toggleable__label {cursor: pointer;display: block;width: 100%;margin-bottom: 0;padding: 0.3em;box-sizing: border-box;text-align: center;}#sk-container-id-1 label.sk-toggleable__label-arrow:before {content: \"▸\";float: left;margin-right: 0.25em;color: #696969;}#sk-container-id-1 label.sk-toggleable__label-arrow:hover:before {color: black;}#sk-container-id-1 div.sk-estimator:hover label.sk-toggleable__label-arrow:before {color: black;}#sk-container-id-1 div.sk-toggleable__content {max-height: 0;max-width: 0;overflow: hidden;text-align: left;background-color: #f0f8ff;}#sk-container-id-1 div.sk-toggleable__content pre {margin: 0.2em;color: black;border-radius: 0.25em;background-color: #f0f8ff;}#sk-container-id-1 input.sk-toggleable__control:checked~div.sk-toggleable__content {max-height: 200px;max-width: 100%;overflow: auto;}#sk-container-id-1 input.sk-toggleable__control:checked~label.sk-toggleable__label-arrow:before {content: \"▾\";}#sk-container-id-1 div.sk-estimator input.sk-toggleable__control:checked~label.sk-toggleable__label {background-color: #d4ebff;}#sk-container-id-1 div.sk-label input.sk-toggleable__control:checked~label.sk-toggleable__label {background-color: #d4ebff;}#sk-container-id-1 input.sk-hidden--visually {border: 0;clip: rect(1px 1px 1px 1px);clip: rect(1px, 1px, 1px, 1px);height: 1px;margin: -1px;overflow: hidden;padding: 0;position: absolute;width: 1px;}#sk-container-id-1 div.sk-estimator {font-family: monospace;background-color: #f0f8ff;border: 1px dotted black;border-radius: 0.25em;box-sizing: border-box;margin-bottom: 0.5em;}#sk-container-id-1 div.sk-estimator:hover {background-color: #d4ebff;}#sk-container-id-1 div.sk-parallel-item::after {content: \"\";width: 100%;border-bottom: 1px solid gray;flex-grow: 1;}#sk-container-id-1 div.sk-label:hover label.sk-toggleable__label {background-color: #d4ebff;}#sk-container-id-1 div.sk-serial::before {content: \"\";position: absolute;border-left: 1px solid gray;box-sizing: border-box;top: 0;bottom: 0;left: 50%;z-index: 0;}#sk-container-id-1 div.sk-serial {display: flex;flex-direction: column;align-items: center;background-color: white;padding-right: 0.2em;padding-left: 0.2em;position: relative;}#sk-container-id-1 div.sk-item {position: relative;z-index: 1;}#sk-container-id-1 div.sk-parallel {display: flex;align-items: stretch;justify-content: center;background-color: white;position: relative;}#sk-container-id-1 div.sk-item::before, #sk-container-id-1 div.sk-parallel-item::before {content: \"\";position: absolute;border-left: 1px solid gray;box-sizing: border-box;top: 0;bottom: 0;left: 50%;z-index: -1;}#sk-container-id-1 div.sk-parallel-item {display: flex;flex-direction: column;z-index: 1;position: relative;background-color: white;}#sk-container-id-1 div.sk-parallel-item:first-child::after {align-self: flex-end;width: 50%;}#sk-container-id-1 div.sk-parallel-item:last-child::after {align-self: flex-start;width: 50%;}#sk-container-id-1 div.sk-parallel-item:only-child::after {width: 0;}#sk-container-id-1 div.sk-dashed-wrapped {border: 1px dashed gray;margin: 0 0.4em 0.5em 0.4em;box-sizing: border-box;padding-bottom: 0.4em;background-color: white;}#sk-container-id-1 div.sk-label label {font-family: monospace;font-weight: bold;display: inline-block;line-height: 1.2em;}#sk-container-id-1 div.sk-label-container {text-align: center;}#sk-container-id-1 div.sk-container {/* jupyter's `normalize.less` sets `[hidden] { display: none; }` but bootstrap.min.css set `[hidden] { display: none !important; }` so we also need the `!important` here to be able to override the default hidden behavior on the sphinx rendered scikit-learn.org. See: https://github.com/scikit-learn/scikit-learn/issues/21755 */display: inline-block !important;position: relative;}#sk-container-id-1 div.sk-text-repr-fallback {display: none;}</style><div id=\"sk-container-id-1\" class=\"sk-top-container\"><div class=\"sk-text-repr-fallback\"><pre>LinearRegression()</pre><b>In a Jupyter environment, please rerun this cell to show the HTML representation or trust the notebook. <br />On GitHub, the HTML representation is unable to render, please try loading this page with nbviewer.org.</b></div><div class=\"sk-container\" hidden><div class=\"sk-item\"><div class=\"sk-estimator sk-toggleable\"><input class=\"sk-toggleable__control sk-hidden--visually\" id=\"sk-estimator-id-1\" type=\"checkbox\" checked><label for=\"sk-estimator-id-1\" class=\"sk-toggleable__label sk-toggleable__label-arrow\">LinearRegression</label><div class=\"sk-toggleable__content\"><pre>LinearRegression()</pre></div></div></div></div></div>"
      ],
      "text/plain": [
       "LinearRegression()"
      ]
     },
     "execution_count": 7,
     "metadata": {},
     "output_type": "execute_result"
    }
   ],
   "source": [
    "model = LinearRegression()\n",
    "model.fit(X_train, y_train)"
   ]
  },
  {
   "cell_type": "code",
   "execution_count": 8,
   "id": "c750c820-e768-41e6-9427-fb44345598ed",
   "metadata": {
    "execution": {
     "iopub.execute_input": "2024-05-24T20:14:17.382686Z",
     "iopub.status.busy": "2024-05-24T20:14:17.382686Z",
     "iopub.status.idle": "2024-05-24T20:14:17.397684Z",
     "shell.execute_reply": "2024-05-24T20:14:17.397180Z",
     "shell.execute_reply.started": "2024-05-24T20:14:17.382686Z"
    }
   },
   "outputs": [],
   "source": [
    "y_predict = model.predict(X_test)"
   ]
  },
  {
   "cell_type": "code",
   "execution_count": 9,
   "id": "8febf7e6-c632-43cb-a548-a31ba32cf7c4",
   "metadata": {
    "execution": {
     "iopub.execute_input": "2024-05-24T20:14:17.399682Z",
     "iopub.status.busy": "2024-05-24T20:14:17.398687Z",
     "iopub.status.idle": "2024-05-24T20:14:17.412313Z",
     "shell.execute_reply": "2024-05-24T20:14:17.412313Z",
     "shell.execute_reply.started": "2024-05-24T20:14:17.399682Z"
    }
   },
   "outputs": [],
   "source": [
    "residual = y_test-y_predict"
   ]
  },
  {
   "cell_type": "markdown",
   "id": "e2c2d5cc-8227-4145-8b07-5ae8362d3589",
   "metadata": {},
   "source": [
    "<h3><mark>residual plotting</mark></h3>"
   ]
  },
  {
   "cell_type": "code",
   "execution_count": 10,
   "id": "c3bc97df-7814-453e-9f39-2a785975c12d",
   "metadata": {
    "execution": {
     "iopub.execute_input": "2024-05-24T20:14:17.414307Z",
     "iopub.status.busy": "2024-05-24T20:14:17.413311Z",
     "iopub.status.idle": "2024-05-24T20:14:17.743297Z",
     "shell.execute_reply": "2024-05-24T20:14:17.742713Z",
     "shell.execute_reply.started": "2024-05-24T20:14:17.414307Z"
    }
   },
   "outputs": [
    {
     "data": {
      "text/plain": [
       "<matplotlib.lines.Line2D at 0x18c413f5d80>"
      ]
     },
     "execution_count": 10,
     "metadata": {},
     "output_type": "execute_result"
    },
    {
     "data": {
      "image/png": "[encoded data removed]",
      "text/plain": [
       "<Figure size 2000x500 with 2 Axes>"
      ]
     },
     "metadata": {},
     "output_type": "display_data"
    }
   ],
   "source": [
    "fig, axes = plt.subplots(1, 2 , figsize=(20,5))\n",
    "sns.histplot(residual , kde=True , ax=axes[0] , bins=20)\n",
    "sns.scatterplot(x=y_test , y=residual , ax=axes[1])\n",
    "axes[1].axhline(y=0, color='r')"
   ]
  },
  {
   "cell_type": "markdown",
   "id": "8c6dcc8c-2a8f-4f31-acdc-669f2f19a72b",
   "metadata": {},
   "source": [
    "<h2>Mean Error</h2>"
   ]
  },
  {
   "cell_type": "code",
   "execution_count": 28,
   "id": "d64bdc4c-e1cd-4e00-b275-a75801955847",
   "metadata": {
    "execution": {
     "iopub.execute_input": "2024-05-24T20:20:44.360687Z",
     "iopub.status.busy": "2024-05-24T20:20:44.359693Z",
     "iopub.status.idle": "2024-05-24T20:20:44.378732Z",
     "shell.execute_reply": "2024-05-24T20:20:44.377665Z",
     "shell.execute_reply.started": "2024-05-24T20:20:44.360687Z"
    }
   },
   "outputs": [
    {
     "data": {
      "text/plain": [
       "16.76863389571255"
      ]
     },
     "execution_count": 28,
     "metadata": {},
     "output_type": "execute_result"
    }
   ],
   "source": [
    "np.mean(np.abs(residual))"
   ]
  },
  {
   "cell_type": "code",
   "execution_count": 11,
   "id": "bb962956-d4c6-4c26-a163-8ffaacf49cf1",
   "metadata": {
    "execution": {
     "iopub.execute_input": "2024-05-24T20:14:17.744296Z",
     "iopub.status.busy": "2024-05-24T20:14:17.744296Z",
     "iopub.status.idle": "2024-05-24T20:14:17.773596Z",
     "shell.execute_reply": "2024-05-24T20:14:17.773596Z",
     "shell.execute_reply.started": "2024-05-24T20:14:17.744296Z"
    }
   },
   "outputs": [
    {
     "data": {
      "text/html": [
       "<style>#sk-container-id-2 {color: black;}#sk-container-id-2 pre{padding: 0;}#sk-container-id-2 div.sk-toggleable {background-color: white;}#sk-container-id-2 label.sk-toggleable__label {cursor: pointer;display: block;width: 100%;margin-bottom: 0;padding: 0.3em;box-sizing: border-box;text-align: center;}#sk-container-id-2 label.sk-toggleable__label-arrow:before {content: \"▸\";float: left;margin-right: 0.25em;color: #696969;}#sk-container-id-2 label.sk-toggleable__label-arrow:hover:before {color: black;}#sk-container-id-2 div.sk-estimator:hover label.sk-toggleable__label-arrow:before {color: black;}#sk-container-id-2 div.sk-toggleable__content {max-height: 0;max-width: 0;overflow: hidden;text-align: left;background-color: #f0f8ff;}#sk-container-id-2 div.sk-toggleable__content pre {margin: 0.2em;color: black;border-radius: 0.25em;background-color: #f0f8ff;}#sk-container-id-2 input.sk-toggleable__control:checked~div.sk-toggleable__content {max-height: 200px;max-width: 100%;overflow: auto;}#sk-container-id-2 input.sk-toggleable__control:checked~label.sk-toggleable__label-arrow:before {content: \"▾\";}#sk-container-id-2 div.sk-estimator input.sk-toggleable__control:checked~label.sk-toggleable__label {background-color: #d4ebff;}#sk-container-id-2 div.sk-label input.sk-toggleable__control:checked~label.sk-toggleable__label {background-color: #d4ebff;}#sk-container-id-2 input.sk-hidden--visually {border: 0;clip: rect(1px 1px 1px 1px);clip: rect(1px, 1px, 1px, 1px);height: 1px;margin: -1px;overflow: hidden;padding: 0;position: absolute;width: 1px;}#sk-container-id-2 div.sk-estimator {font-family: monospace;background-color: #f0f8ff;border: 1px dotted black;border-radius: 0.25em;box-sizing: border-box;margin-bottom: 0.5em;}#sk-container-id-2 div.sk-estimator:hover {background-color: #d4ebff;}#sk-container-id-2 div.sk-parallel-item::after {content: \"\";width: 100%;border-bottom: 1px solid gray;flex-grow: 1;}#sk-container-id-2 div.sk-label:hover label.sk-toggleable__label {background-color: #d4ebff;}#sk-container-id-2 div.sk-serial::before {content: \"\";position: absolute;border-left: 1px solid gray;box-sizing: border-box;top: 0;bottom: 0;left: 50%;z-index: 0;}#sk-container-id-2 div.sk-serial {display: flex;flex-direction: column;align-items: center;background-color: white;padding-right: 0.2em;padding-left: 0.2em;position: relative;}#sk-container-id-2 div.sk-item {position: relative;z-index: 1;}#sk-container-id-2 div.sk-parallel {display: flex;align-items: stretch;justify-content: center;background-color: white;position: relative;}#sk-container-id-2 div.sk-item::before, #sk-container-id-2 div.sk-parallel-item::before {content: \"\";position: absolute;border-left: 1px solid gray;box-sizing: border-box;top: 0;bottom: 0;left: 50%;z-index: -1;}#sk-container-id-2 div.sk-parallel-item {display: flex;flex-direction: column;z-index: 1;position: relative;background-color: white;}#sk-container-id-2 div.sk-parallel-item:first-child::after {align-self: flex-end;width: 50%;}#sk-container-id-2 div.sk-parallel-item:last-child::after {align-self: flex-start;width: 50%;}#sk-container-id-2 div.sk-parallel-item:only-child::after {width: 0;}#sk-container-id-2 div.sk-dashed-wrapped {border: 1px dashed gray;margin: 0 0.4em 0.5em 0.4em;box-sizing: border-box;padding-bottom: 0.4em;background-color: white;}#sk-container-id-2 div.sk-label label {font-family: monospace;font-weight: bold;display: inline-block;line-height: 1.2em;}#sk-container-id-2 div.sk-label-container {text-align: center;}#sk-container-id-2 div.sk-container {/* jupyter's `normalize.less` sets `[hidden] { display: none; }` but bootstrap.min.css set `[hidden] { display: none !important; }` so we also need the `!important` here to be able to override the default hidden behavior on the sphinx rendered scikit-learn.org. See: https://github.com/scikit-learn/scikit-learn/issues/21755 */display: inline-block !important;position: relative;}#sk-container-id-2 div.sk-text-repr-fallback {display: none;}</style><div id=\"sk-container-id-2\" class=\"sk-top-container\"><div class=\"sk-text-repr-fallback\"><pre>LinearRegression()</pre><b>In a Jupyter environment, please rerun this cell to show the HTML representation or trust the notebook. <br />On GitHub, the HTML representation is unable to render, please try loading this page with nbviewer.org.</b></div><div class=\"sk-container\" hidden><div class=\"sk-item\"><div class=\"sk-estimator sk-toggleable\"><input class=\"sk-toggleable__control sk-hidden--visually\" id=\"sk-estimator-id-2\" type=\"checkbox\" checked><label for=\"sk-estimator-id-2\" class=\"sk-toggleable__label sk-toggleable__label-arrow\">LinearRegression</label><div class=\"sk-toggleable__content\"><pre>LinearRegression()</pre></div></div></div></div></div>"
      ],
      "text/plain": [
       "LinearRegression()"
      ]
     },
     "execution_count": 11,
     "metadata": {},
     "output_type": "execute_result"
    }
   ],
   "source": [
    "model = LinearRegression()\n",
    "model.fit(X, y)"
   ]
  },
  {
   "cell_type": "code",
   "execution_count": 12,
   "id": "d7937442-21d5-4644-b747-f9f40fa84efb",
   "metadata": {
    "execution": {
     "iopub.execute_input": "2024-05-24T20:14:17.774585Z",
     "iopub.status.busy": "2024-05-24T20:14:17.774585Z",
     "iopub.status.idle": "2024-05-24T20:14:17.790633Z",
     "shell.execute_reply": "2024-05-24T20:14:17.789637Z",
     "shell.execute_reply.started": "2024-05-24T20:14:17.774585Z"
    }
   },
   "outputs": [],
   "source": [
    "def predict_price(Area,Bedrooms,Lift, location):    \n",
    "    loc_index = np.where(X.columns==location)[0][0]\n",
    "    x = np.zeros(len(X.columns))\n",
    "    x[0] = Area\n",
    "    x[1] = Bedrooms\n",
    "    x[2] = Lift\n",
    "    if loc_index >= 0:\n",
    "        x[loc_index] = 1\n",
    "\n",
    "    return model.predict([x])[0]"
   ]
  },
  {
   "cell_type": "markdown",
   "id": "e6c7cb03-26f8-4bae-bad3-8fef589b9715",
   "metadata": {},
   "source": [
    "<h3><mark>Final test</mark></h3>"
   ]
  },
  {
   "cell_type": "code",
   "execution_count": 14,
   "id": "597b168b-d6a8-4348-aa41-bfc16db1110b",
   "metadata": {
    "execution": {
     "iopub.execute_input": "2024-05-24T20:14:36.648368Z",
     "iopub.status.busy": "2024-05-24T20:14:36.647351Z",
     "iopub.status.idle": "2024-05-24T20:14:36.670283Z",
     "shell.execute_reply": "2024-05-24T20:14:36.669280Z",
     "shell.execute_reply.started": "2024-05-24T20:14:36.648368Z"
    }
   },
   "outputs": [
    {
     "data": {
      "text/plain": [
       "Index(['Area', 'No. of Bedrooms', 'Lift Available', 'Location_Airoli',\n",
       "       'Location_Ambernath East', 'Location_Andheri', 'Location_Andheri East',\n",
       "       'Location_Andheri West', 'Location_Badlapur East',\n",
       "       'Location_Bandra East', 'Location_Belapur', 'Location_Bhandup West',\n",
       "       'Location_Bhayandar East', 'Location_Bhiwandi', 'Location_Boisar',\n",
       "       'Location_Borivali East', 'Location_Borivali West', 'Location_Chembur',\n",
       "       'Location_Chembur East', 'Location_Dahisar', 'Location_Dahisar East',\n",
       "       'Location_Dahisar West', 'Location_Dattapada', 'Location_Dombivali',\n",
       "       'Location_Dombivali East', 'Location_Dombivli (West)',\n",
       "       'Location_Dronagiri', 'Location_Ghansoli', 'Location_Ghatkopar',\n",
       "       'Location_Ghatkopar West', 'Location_Goregaon',\n",
       "       'Location_Goregaon East', 'Location_Goregaon West',\n",
       "       'Location_Jogeshwari West', 'Location_Juhu', 'Location_Kalwa',\n",
       "       'Location_Kalyan East', 'Location_Kalyan West', 'Location_Kamothe',\n",
       "       'Location_Kandivali East', 'Location_Kandivali West',\n",
       "       'Location_Kanjurmarg', 'Location_Karanjade', 'Location_Kharghar',\n",
       "       'Location_Koper Khairane', 'Location_Koproli', 'Location_Kurla',\n",
       "       'Location_Kurla West', 'Location_Magathane', 'Location_Majiwada',\n",
       "       'Location_Malad East', 'Location_Malad West', 'Location_Mira Road East',\n",
       "       'Location_Mira Road and Beyond', 'Location_Mulund East',\n",
       "       'Location_Mulund West', 'Location_Naigaon East', 'Location_Nala Sopara',\n",
       "       'Location_Nalasopara East', 'Location_Nalasopara West',\n",
       "       'Location_Nerul', 'Location_Palghar', 'Location_Panvel',\n",
       "       'Location_Powai', 'Location_Sanpada', 'Location_Santacruz East',\n",
       "       'Location_Seawoods', 'Location_Sector 17 Ulwe',\n",
       "       'Location_Sector 19 Kharghar', 'Location_Sector 20 Kharghar',\n",
       "       'Location_Sector-18 Ulwe', 'Location_Sion', 'Location_Taloja',\n",
       "       'Location_Thane', 'Location_Thane West', 'Location_Ulwe',\n",
       "       'Location_Vasai', 'Location_Vasai West', 'Location_Vasai east',\n",
       "       'Location_Vashi', 'Location_Ville Parle East', 'Location_Virar',\n",
       "       'Location_Virar East', 'Location_Virar West', 'Location_Wadala',\n",
       "       'Location_Wadala East Wadala', 'Location_mumbai'],\n",
       "      dtype='object')"
      ]
     },
     "execution_count": 14,
     "metadata": {},
     "output_type": "execute_result"
    }
   ],
   "source": [
    "X.columns"
   ]
  },
  {
   "cell_type": "code",
   "execution_count": 24,
   "id": "0894884f-b8d4-4cb1-b6c4-42a68f8dba62",
   "metadata": {
    "execution": {
     "iopub.execute_input": "2024-05-24T20:17:34.747583Z",
     "iopub.status.busy": "2024-05-24T20:17:34.746074Z",
     "iopub.status.idle": "2024-05-24T20:17:34.758977Z",
     "shell.execute_reply": "2024-05-24T20:17:34.758977Z",
     "shell.execute_reply.started": "2024-05-24T20:17:34.747583Z"
    }
   },
   "outputs": [
    {
     "name": "stderr",
     "output_type": "stream",
     "text": [
      "C:\\Users\\SAMI\\AppData\\Local\\Programs\\Python\\Python310\\lib\\site-packages\\sklearn\\base.py:465: UserWarning: X does not have valid feature names, but LinearRegression was fitted with feature names\n",
      "  warnings.warn(\n"
     ]
    },
    {
     "data": {
      "text/plain": [
       "12.635682074168223"
      ]
     },
     "execution_count": 24,
     "metadata": {},
     "output_type": "execute_result"
    }
   ],
   "source": [
    "predict_price(Area=400, Bedrooms=1, Lift=0, location='Location_Ambernath East')"
   ]
  },
  {
   "cell_type": "markdown",
   "id": "260e4e72-45cd-4d9a-81ec-9085b19ed5f0",
   "metadata": {},
   "source": [
    "<mark>Reasobaly accurate result compared to pricing on housing sites</mark>"
   ]
  },
  {
   "cell_type": "code",
   "execution_count": null,
   "id": "9b16b154-8572-4aff-9d9f-08c966656610",
   "metadata": {},
   "outputs": [],
   "source": []
  }
 ],
 "metadata": {
  "kernelspec": {
   "display_name": "Python 3 (ipykernel)",
   "language": "python",
   "name": "python3"
  },
  "language_info": {
   "codemirror_mode": {
    "name": "ipython",
    "version": 3
   },
   "file_extension": ".py",
   "mimetype": "text/x-python",
   "name": "python",
   "nbconvert_exporter": "python",
   "pygments_lexer": "ipython3",
   "version": "3.10.0"
  }
 },
 "nbformat": 4,
 "nbformat_minor": 5
}
